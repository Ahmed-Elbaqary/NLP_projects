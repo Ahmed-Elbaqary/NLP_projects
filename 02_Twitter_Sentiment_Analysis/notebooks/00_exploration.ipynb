{
 "cells": [
  {
   "cell_type": "code",
   "execution_count": 77,
   "id": "51e0512b-7992-4399-83fc-8e6b6a632f82",
   "metadata": {},
   "outputs": [],
   "source": [
    "TRAIN_PATH = \"../data/raw/train.pkl\"\n",
    "TEST_PATH = \"../data/raw/test.pkl\""
   ]
  },
  {
   "cell_type": "code",
   "execution_count": 74,
   "id": "80d5c5a2-138d-48c9-a17f-a0a18e001a95",
   "metadata": {},
   "outputs": [
    {
     "name": "stderr",
     "output_type": "stream",
     "text": [
      "[nltk_data] Downloading package stopwords to\n",
      "[nltk_data]     C:\\Users\\ahmed\\AppData\\Roaming\\nltk_data...\n",
      "[nltk_data]   Package stopwords is already up-to-date!\n",
      "[nltk_data] Downloading package twitter_samples to\n",
      "[nltk_data]     C:\\Users\\ahmed\\AppData\\Roaming\\nltk_data...\n",
      "[nltk_data]   Package twitter_samples is already up-to-date!\n"
     ]
    }
   ],
   "source": [
    "# load packages and download data\n",
    "import pandas as pd\n",
    "import numpy as np\n",
    "\n",
    "import nltk\n",
    "nltk.download(\"stopwords\")\n",
    "nltk.download(\"twitter_samples\")\n",
    "\n",
    "from nltk.corpus import twitter_samples\n",
    "from nltk.corpus import stopwords"
   ]
  },
  {
   "cell_type": "markdown",
   "id": "f2411ba7-d2ab-4d45-b315-781d7af1108e",
   "metadata": {},
   "source": [
    "## Read data:"
   ]
  },
  {
   "cell_type": "code",
   "execution_count": 5,
   "id": "f5f950b6-45e9-408b-84f0-0d20395d4c05",
   "metadata": {},
   "outputs": [],
   "source": [
    "positive_tweets = twitter_samples.strings(\"positive_tweets.json\")\n",
    "negative_tweets = twitter_samples.strings(\"negative_tweets.json\")"
   ]
  },
  {
   "cell_type": "markdown",
   "id": "285f0192-511f-4b1e-9255-f73a47f68868",
   "metadata": {},
   "source": [
    "## Running some explorations:"
   ]
  },
  {
   "cell_type": "code",
   "execution_count": 10,
   "id": "76073986-d6df-4ee4-91d4-f6e0955771e1",
   "metadata": {},
   "outputs": [
    {
     "name": "stdout",
     "output_type": "stream",
     "text": [
      "5000\n",
      "5000\n"
     ]
    }
   ],
   "source": [
    "# showing the length of data\n",
    "print(len(positive_tweets))\n",
    "print(len(negative_tweets))"
   ]
  },
  {
   "cell_type": "code",
   "execution_count": 13,
   "id": "61073ef2-a5b5-4dd6-9a2e-c051e8c1ed83",
   "metadata": {},
   "outputs": [
    {
     "name": "stdout",
     "output_type": "stream",
     "text": [
      "#FollowFriday @France_Inte @PKuchly57 @Milipol_Paris for being top engaged members in my community this week :) \n",
      "\n",
      "@Lamb2ja Hey James! How odd :/ Please call our Contact Centre on 02392441234 and we will be able to assist you :) Many thanks! \n",
      "\n",
      "@DespiteOfficial we had a listen last night :) As You Bleed is an amazing track. When are you in Scotland?! \n",
      "\n",
      "@97sides CONGRATS :) \n",
      "\n",
      "yeaaaah yippppy!!!  my accnt verified rqst has succeed got a blue tick mark on my fb profile :) in 15 days \n",
      "\n"
     ]
    },
    {
     "data": {
      "text/plain": [
       "[None, None, None, None, None]"
      ]
     },
     "execution_count": 13,
     "metadata": {},
     "output_type": "execute_result"
    }
   ],
   "source": [
    "# Show some samples from positive and negative tweets\n",
    "[print(x,'\\n') for x in positive_tweets[:5]]"
   ]
  },
  {
   "cell_type": "code",
   "execution_count": 14,
   "id": "7f058060-1e19-4af0-b906-ae7a7bc81203",
   "metadata": {},
   "outputs": [
    {
     "name": "stdout",
     "output_type": "stream",
     "text": [
      "hopeless for tmr :( \n",
      "\n",
      "Everything in the kids section of IKEA is so cute. Shame I'm nearly 19 in 2 months :( \n",
      "\n",
      "@Hegelbon That heart sliding into the waste basket. :( \n",
      "\n",
      "“@ketchBurning: I hate Japanese call him \"bani\" :( :(”\n",
      "\n",
      "Me too \n",
      "\n",
      "Dang starting next week I have \"work\" :( \n",
      "\n"
     ]
    },
    {
     "data": {
      "text/plain": [
       "[None, None, None, None, None]"
      ]
     },
     "execution_count": 14,
     "metadata": {},
     "output_type": "execute_result"
    }
   ],
   "source": [
    "# Show some samples from positiveand negative tweets\n",
    "[print(x,'\\n') for x in negative_tweets[:5]]"
   ]
  },
  {
   "cell_type": "markdown",
   "id": "002a0f26-b606-40bb-b6cf-88ee223383d6",
   "metadata": {},
   "source": [
    "## Now preparing train and test sets with targets:\n",
    "**Split train and test with 80% and 20% percents**"
   ]
  },
  {
   "cell_type": "code",
   "execution_count": 67,
   "id": "1b4678b2-b9a5-40f8-8c60-06ee87e08202",
   "metadata": {},
   "outputs": [],
   "source": [
    "train_pos = positive_tweets[:4000]\n",
    "test_pos = positive_tweets[4000:]\n",
    "\n",
    "train_neg = negative_tweets[:4000]\n",
    "test_neg = negative_tweets[4000:]"
   ]
  },
  {
   "cell_type": "code",
   "execution_count": 68,
   "id": "0203fd40-6339-4071-ad55-bb8453271d6c",
   "metadata": {},
   "outputs": [],
   "source": [
    "X_train = np.array(train_pos + train_neg)\n",
    "X_test = np.array(test_pos + test_neg)"
   ]
  },
  {
   "cell_type": "code",
   "execution_count": 69,
   "id": "294cde23-4124-4b01-a384-9c62780556f3",
   "metadata": {},
   "outputs": [
    {
     "name": "stdout",
     "output_type": "stream",
     "text": [
      "length of X_train:  (8000,)\n",
      "length of X_test:  (2000,)\n"
     ]
    }
   ],
   "source": [
    "print(\"length of X_train: \", X_train.shape)\n",
    "print(\"length of X_test: \", X_test.shape)"
   ]
  },
  {
   "cell_type": "markdown",
   "id": "419e907e-7868-4c6c-b2c9-7a3fce0ff7e5",
   "metadata": {},
   "source": [
    "**Now creating the target data**"
   ]
  },
  {
   "cell_type": "code",
   "execution_count": 70,
   "id": "80d846e6-8339-4232-b73b-5d0f97e94bbb",
   "metadata": {},
   "outputs": [],
   "source": [
    "y_train = np.append(np.ones((len(train_pos),1)), np.zeros((len(train_neg),1)), axis=0)\n",
    "y_test = np.append(np.ones((len(test_pos),1)), np.zeros((len(test_neg),1)), axis=0)"
   ]
  },
  {
   "cell_type": "code",
   "execution_count": 71,
   "id": "914ff956-ba23-4535-9134-d3f3f3622bbc",
   "metadata": {},
   "outputs": [
    {
     "name": "stdout",
     "output_type": "stream",
     "text": [
      "y_train shape:  (8000, 1)\n",
      "y_test shape:  (2000, 1)\n"
     ]
    }
   ],
   "source": [
    "print(\"y_train shape: \", y_train.shape)\n",
    "print(\"y_test shape: \" , y_test.shape)"
   ]
  },
  {
   "cell_type": "markdown",
   "id": "facf244d-a189-4342-bbf3-5391bd9d85d6",
   "metadata": {},
   "source": [
    "## store data into a dataframe:"
   ]
  },
  {
   "cell_type": "code",
   "execution_count": 76,
   "id": "fe28f71a-f7dc-4acb-a437-f4126478013e",
   "metadata": {},
   "outputs": [],
   "source": [
    "train_df = pd.DataFrame({\"tweets\":X_train,\n",
    "                         \"sentiment\": y_train.reshape(-1,)})\n",
    "\n",
    "test_df = pd.DataFrame({\"tweets\":X_test,\n",
    "                         \"sentiment\": y_test.reshape(-1,)})"
   ]
  },
  {
   "cell_type": "code",
   "execution_count": 81,
   "id": "2d93af76-4c34-455b-936d-2934a49faa51",
   "metadata": {},
   "outputs": [
    {
     "data": {
      "text/html": [
       "<div>\n",
       "<style scoped>\n",
       "    .dataframe tbody tr th:only-of-type {\n",
       "        vertical-align: middle;\n",
       "    }\n",
       "\n",
       "    .dataframe tbody tr th {\n",
       "        vertical-align: top;\n",
       "    }\n",
       "\n",
       "    .dataframe thead th {\n",
       "        text-align: right;\n",
       "    }\n",
       "</style>\n",
       "<table border=\"1\" class=\"dataframe\">\n",
       "  <thead>\n",
       "    <tr style=\"text-align: right;\">\n",
       "      <th></th>\n",
       "      <th>tweets</th>\n",
       "      <th>sentiment</th>\n",
       "    </tr>\n",
       "  </thead>\n",
       "  <tbody>\n",
       "    <tr>\n",
       "      <th>1498</th>\n",
       "      <td>@ironmima @fruitpreserve okay :)</td>\n",
       "      <td>1.0</td>\n",
       "    </tr>\n",
       "    <tr>\n",
       "      <th>5237</th>\n",
       "      <td>I would entertain such tbh \"@ImKhweziN: \"Hey, ...</td>\n",
       "      <td>0.0</td>\n",
       "    </tr>\n",
       "    <tr>\n",
       "      <th>5516</th>\n",
       "      <td>@nuaine @McDo_PH i have no idea what ure sayin...</td>\n",
       "      <td>0.0</td>\n",
       "    </tr>\n",
       "    <tr>\n",
       "      <th>2949</th>\n",
       "      <td>@2turntsav I'm not gonna freak out :::::)</td>\n",
       "      <td>1.0</td>\n",
       "    </tr>\n",
       "    <tr>\n",
       "      <th>7436</th>\n",
       "      <td>I don't like this at all :(</td>\n",
       "      <td>0.0</td>\n",
       "    </tr>\n",
       "  </tbody>\n",
       "</table>\n",
       "</div>"
      ],
      "text/plain": [
       "                                                 tweets  sentiment\n",
       "1498                   @ironmima @fruitpreserve okay :)        1.0\n",
       "5237  I would entertain such tbh \"@ImKhweziN: \"Hey, ...        0.0\n",
       "5516  @nuaine @McDo_PH i have no idea what ure sayin...        0.0\n",
       "2949          @2turntsav I'm not gonna freak out :::::)        1.0\n",
       "7436                        I don't like this at all :(        0.0"
      ]
     },
     "execution_count": 81,
     "metadata": {},
     "output_type": "execute_result"
    }
   ],
   "source": [
    "train_df.sample(5)"
   ]
  },
  {
   "cell_type": "markdown",
   "id": "7ab60b92-0e02-4436-b06a-63c426155b0f",
   "metadata": {},
   "source": [
    "___\n",
    "## Export data for furthur processing:"
   ]
  },
  {
   "cell_type": "code",
   "execution_count": 79,
   "id": "c4dea2a4-dd39-44e5-b1ae-1e6703b69e2f",
   "metadata": {},
   "outputs": [],
   "source": [
    "train_df.to_pickle(TRAIN_PATH)\n",
    "test_df.to_pickle(TEST_PATH)"
   ]
  }
 ],
 "metadata": {
  "kernelspec": {
   "display_name": "Python 3 (ipykernel)",
   "language": "python",
   "name": "python3"
  },
  "language_info": {
   "codemirror_mode": {
    "name": "ipython",
    "version": 3
   },
   "file_extension": ".py",
   "mimetype": "text/x-python",
   "name": "python",
   "nbconvert_exporter": "python",
   "pygments_lexer": "ipython3",
   "version": "3.8.8"
  }
 },
 "nbformat": 4,
 "nbformat_minor": 5
}
