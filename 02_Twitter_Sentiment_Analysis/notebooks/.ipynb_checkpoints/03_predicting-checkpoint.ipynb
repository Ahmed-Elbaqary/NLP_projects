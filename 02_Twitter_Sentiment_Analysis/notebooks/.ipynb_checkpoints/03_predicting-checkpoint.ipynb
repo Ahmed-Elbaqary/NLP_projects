{
 "cells": [
  {
   "cell_type": "code",
   "execution_count": 1,
   "id": "11ad0d13-60be-4bdb-97f5-95aa70df4d00",
   "metadata": {},
   "outputs": [],
   "source": [
    "FEATURES_DICT = \"../data/objects/features.pkl\"\n",
    "MODEL = \"../models/classifier.pkl\""
   ]
  },
  {
   "cell_type": "code",
   "execution_count": 9,
   "id": "7ae33ac5-6ac3-449b-aa78-c632433f777f",
   "metadata": {},
   "outputs": [],
   "source": [
    "# Load packages\n",
    "import numpy as np\n",
    "import pandas as pd\n",
    "\n",
    "import pickle\n",
    "\n",
    "import sys\n",
    "sys.path.append(\"../scripts\")\n",
    "from Utils import process_tweet"
   ]
  },
  {
   "cell_type": "markdown",
   "id": "c270f49e-3ec0-463f-8ca6-3e9d658edd21",
   "metadata": {},
   "source": [
    "___\n",
    "## Functions:"
   ]
  },
  {
   "cell_type": "code",
   "execution_count": 58,
   "id": "02cfdf3a-0205-47ed-b3d3-73ce9628f834",
   "metadata": {},
   "outputs": [],
   "source": [
    "with open(FEATURES_DICT, 'rb') as handle:\n",
    "    features = pickle.load(handle)\n",
    "\n",
    "def extract_features(tweet, freqs=features):\n",
    "    \"\"\"\n",
    "    function used to transfrom tweet into its numerical representation\n",
    "    based on the stored features\n",
    "    INPUT:\n",
    "        tweet: the tweet in a string format\n",
    "        freqs: a dictionary of all the word frequency\n",
    "                e.g {(great, 1): 35}\n",
    "    OUTPUT:\n",
    "        returns a numpy array of each score for features \n",
    "        e.g [bias, positive_score, negative_score]\n",
    "    \"\"\"\n",
    "    words = process_tweet(tweet)\n",
    "    tweet_array = np.array([[1.0, 0.0, 0.0]])\n",
    "    \n",
    "    for word in words:\n",
    "        tweet_array[0, 1] += freqs.get((word, 1.0), 0)\n",
    "        tweet_array[0, 2] += freqs.get((word, 0.0), 0)\n",
    "    \n",
    "    assert(tweet_array.shape == (1, 3))\n",
    "    return tweet_array#.reshape(3,)"
   ]
  },
  {
   "cell_type": "markdown",
   "id": "17b69a54-7db9-4733-a931-2f2375b9a064",
   "metadata": {},
   "source": [
    "## Load model:"
   ]
  },
  {
   "cell_type": "code",
   "execution_count": 8,
   "id": "e2f96914-fb4b-417a-a03b-211453b6c508",
   "metadata": {},
   "outputs": [],
   "source": [
    "with open(MODEL, 'rb') as handel:\n",
    "    model = pickle.load(handel)"
   ]
  },
  {
   "cell_type": "code",
   "execution_count": 41,
   "id": "ace0a77e-6e96-4ad8-9756-1214a47c5a92",
   "metadata": {},
   "outputs": [],
   "source": [
    "def classify_tweet(tweet, clf):\n",
    "    features = extract_features(tweet)\n",
    "    \n",
    "    X_train = pd.DataFrame({\"bias\": [features[0,0]],\n",
    "              \"pos\": [features[0,1]],\n",
    "              \"neg\": [features[0,2]]})\n",
    "    y = clf.predict(X_train)\n",
    "    \n",
    "    return \"Positive Sentiment\" if y else \"Negative Sentiment\""
   ]
  },
  {
   "cell_type": "markdown",
   "id": "4be90b94-d1a5-4304-a97c-e2f635c1a5c6",
   "metadata": {},
   "source": [
    "## Test on your own tweet:"
   ]
  },
  {
   "cell_type": "markdown",
   "id": "7d3fb85f-3a7f-47d2-b9c2-bad53f735518",
   "metadata": {},
   "source": [
    "**1. Try on a negative sentiment**"
   ]
  },
  {
   "cell_type": "code",
   "execution_count": 59,
   "id": "a2e3c318-eeb9-4b74-995f-f9cf478f672f",
   "metadata": {},
   "outputs": [],
   "source": [
    "neg_tweets = [\"Car &amp; suspemsion cant cope with all these offroading adventures now theres harvest machinery left in inapropriate places to weave around :((\",\n",
    "              \n",
    "             \"@marlenejazmyne idk :-( maybe because I think boobs are more fun to play with\",\n",
    "             \n",
    "             'is everyone gonna be talking abt rat boy today bc :((',\n",
    "             \n",
    "              \"@JackJackJohnson @jackgilinsky NUMBER ONE IN AMERICA!! 😭🇺🇸\\ni wish i could buy it but no money :( http://t.co/7xyNmimTpR\",\n",
    "             \n",
    "             \"@denissely Awhh i didn't see you guys or i would've rammed my car into you :(\",\n",
    "             \n",
    "             '@iperfectyonce @justinbieber its my biggest dream can u follow me brooo :((((',\n",
    "             \n",
    "             \"@VyenAngel gosh its cheaper in malaysia :( here its worth 130 +shipping\",\n",
    "             \n",
    "             \"@Miss_J_Hart @staffrm well, I'm only on P.41 &amp; 8 pages of notes thus far :-( and I've read twice before\",\n",
    "             \n",
    "             \":( I can no longer admire the consistency of Jason Shackell's hair on the @NoNayNeverNet podcast http://t.co/T9rpuLyb5u\",\n",
    "             \n",
    "             \"@voxcinemas I want the minion bucket please :( it wasn't there yesterday! :(\"\n",
    "             ]"
   ]
  },
  {
   "cell_type": "code",
   "execution_count": 64,
   "id": "61a3feea-3959-4fb3-a106-f50e8031fa83",
   "metadata": {},
   "outputs": [
    {
     "data": {
      "text/plain": [
       "[(0, 'Negative Sentiment'),\n",
       " (1, 'Positive Sentiment'),\n",
       " (2, 'Negative Sentiment'),\n",
       " (3, 'Negative Sentiment'),\n",
       " (4, 'Negative Sentiment'),\n",
       " (5, 'Negative Sentiment'),\n",
       " (6, 'Negative Sentiment'),\n",
       " (7, 'Positive Sentiment'),\n",
       " (8, 'Negative Sentiment'),\n",
       " (9, 'Negative Sentiment')]"
      ]
     },
     "execution_count": 64,
     "metadata": {},
     "output_type": "execute_result"
    }
   ],
   "source": [
    "[(i, classify_tweet(tweet, model)) for i, tweet in enumerate(neg_tweets)]"
   ]
  },
  {
   "cell_type": "markdown",
   "id": "9e2bae98-ef47-4860-b329-f6007204b545",
   "metadata": {},
   "source": [
    "**2. Try on a positive sentiment**"
   ]
  },
  {
   "cell_type": "code",
   "execution_count": 69,
   "id": "47cf50df-5477-44e4-804c-ba88fa4fbcfc",
   "metadata": {},
   "outputs": [],
   "source": [
    "pos_tweets = [\"Just viewed a property. Agent said 'the kitchen needs attention'  I like an accurate description :-) http://t.co/kgXuYb6diH\",\n",
    "            \n",
    "            'Deepthroat was a good movie :)) https://t.co/rtz4SsXA0O',\n",
    "            \n",
    "            \"@PuppyShogun mistakes happen man, as long as we get to play the game, we'll be happy :)\",\n",
    "            \n",
    "            '@monkeymademe the @raspjamberlin is still on tomorrow? A work colleague is interested in bringing his kid along :) can point him to EB page',\n",
    "            \n",
    "            '@mehra_sachi sure :)',\n",
    "            \n",
    "            '@IGNUK #1TBPS4 Wow! what a prize! so delightful for my eyes, pick me to win and I will burst and sing \"PS4 is mine and I feel divine\" :)',\n",
    "             \n",
    "             \"@CathsStrawberry I thought your work was seasonal, you will have really busy days. Ok so deal for weekends and in your toilet breaks :p\",\n",
    "             \n",
    "             \"@iansomerhalder here in Spain is morning :) Good morning Ian!\",\n",
    "             \n",
    "             \"@Caz_Loz @BeckieSmith_7 ha! Love both pics! Clearly I have much to learn about popular English pastimes. :)\",\n",
    "             \n",
    "             \"@OMGitsBern_92 All sorted in the early hours. Thanks again for your help &amp; raising the initial issue. makes the community what it is :)\"\n",
    "             ]"
   ]
  },
  {
   "cell_type": "code",
   "execution_count": 66,
   "id": "58d0d714-6fea-4160-90c3-f0e474846a2e",
   "metadata": {},
   "outputs": [
    {
     "data": {
      "text/plain": [
       "[(0, 'Positive Sentiment'),\n",
       " (1, 'Positive Sentiment'),\n",
       " (2, 'Positive Sentiment'),\n",
       " (3, 'Positive Sentiment'),\n",
       " (4, 'Positive Sentiment'),\n",
       " (5, 'Positive Sentiment'),\n",
       " (6, 'Positive Sentiment'),\n",
       " (7, 'Positive Sentiment'),\n",
       " (8, 'Positive Sentiment'),\n",
       " (9, 'Positive Sentiment')]"
      ]
     },
     "execution_count": 66,
     "metadata": {},
     "output_type": "execute_result"
    }
   ],
   "source": [
    "[(i, classify_tweet(tweet, model)) for i, tweet in enumerate(pos_tweets)]"
   ]
  }
 ],
 "metadata": {
  "kernelspec": {
   "display_name": "Python 3 (ipykernel)",
   "language": "python",
   "name": "python3"
  },
  "language_info": {
   "codemirror_mode": {
    "name": "ipython",
    "version": 3
   },
   "file_extension": ".py",
   "mimetype": "text/x-python",
   "name": "python",
   "nbconvert_exporter": "python",
   "pygments_lexer": "ipython3",
   "version": "3.8.8"
  }
 },
 "nbformat": 4,
 "nbformat_minor": 5
}
