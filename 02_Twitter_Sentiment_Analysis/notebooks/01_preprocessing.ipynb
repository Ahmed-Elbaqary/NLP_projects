{
 "cells": [
  {
   "cell_type": "code",
   "execution_count": 228,
   "id": "c1cd8eb2-88af-4c4f-8c20-e3a64ebb1348",
   "metadata": {},
   "outputs": [],
   "source": [
    "TRAIN_PATH = \"../data/raw/train.pkl\"\n",
    "TEST_PATH = \"../data/raw/test.pkl\"\n",
    "\n",
    "FINAL_TRAIN = \"../data/processed/train_final.pkl\"\n",
    "FINAL_TEST = \"../data/processed/test_final.pkl\""
   ]
  },
  {
   "cell_type": "code",
   "execution_count": 260,
   "id": "a02b903b-f7e9-485f-84ee-3b9223349015",
   "metadata": {},
   "outputs": [],
   "source": [
    "# Load packages\n",
    "import numpy as np\n",
    "import pandas as pd\n",
    "\n",
    "import pickle\n",
    "\n",
    "import sys\n",
    "sys.path.append(\"../scripts\")\n",
    "from Utils import build_freqs, process_tweet\n",
    "\n",
    "pd.set_option(\"display.max_colwidth\", None)"
   ]
  },
  {
   "cell_type": "markdown",
   "id": "aae413ad-695b-4eb4-8173-499c8da1a42a",
   "metadata": {},
   "source": [
    "___\n",
    "## Functions:"
   ]
  },
  {
   "cell_type": "code",
   "execution_count": 256,
   "id": "f788b6c7-ab26-49af-83f9-f46f30d5a3af",
   "metadata": {},
   "outputs": [],
   "source": [
    "def extract_features(tweet, freqs=features):\n",
    "    \"\"\"\n",
    "    function used to transfrom tweet into its numerical representation\n",
    "    based on the stored features\n",
    "    INPUT:\n",
    "        tweet: the tweet in a string format\n",
    "        freqs: a dictionary of all the word frequency\n",
    "                e.g {(great, 1): 35}\n",
    "    OUTPUT:\n",
    "        returns a numpy array of each score for features \n",
    "        e.g [bias, positive_score, negative_score]\n",
    "    \"\"\"\n",
    "    words = process_tweet(tweet)\n",
    "    tweet_array = np.array([[1.0, 0.0, 0.0]])\n",
    "    \n",
    "    for word in words:\n",
    "        tweet_array[0, 1] += freqs.get((word, 1.0), 0)\n",
    "        tweet_array[0, 2] += freqs.get((word, 0.0), 0)\n",
    "    \n",
    "    assert(tweet_array.shape == (1, 3))\n",
    "    return tweet_array#.reshape(3,)"
   ]
  },
  {
   "cell_type": "markdown",
   "id": "96ef92f2-6abe-4335-a6cd-3b7f440583b6",
   "metadata": {},
   "source": [
    "___\n",
    "## Read data"
   ]
  },
  {
   "cell_type": "code",
   "execution_count": 99,
   "id": "e0b8e247-47f4-42a0-aaef-fd3c4758c678",
   "metadata": {},
   "outputs": [],
   "source": [
    "train_df = pd.read_pickle(TRAIN_PATH)\n",
    "test_df = pd.read_pickle(TEST_PATH)"
   ]
  },
  {
   "cell_type": "code",
   "execution_count": 261,
   "id": "2c9d3236-d962-46ed-b4f1-0886990871a8",
   "metadata": {},
   "outputs": [
    {
     "data": {
      "text/html": [
       "<div>\n",
       "<style scoped>\n",
       "    .dataframe tbody tr th:only-of-type {\n",
       "        vertical-align: middle;\n",
       "    }\n",
       "\n",
       "    .dataframe tbody tr th {\n",
       "        vertical-align: top;\n",
       "    }\n",
       "\n",
       "    .dataframe thead th {\n",
       "        text-align: right;\n",
       "    }\n",
       "</style>\n",
       "<table border=\"1\" class=\"dataframe\">\n",
       "  <thead>\n",
       "    <tr style=\"text-align: right;\">\n",
       "      <th></th>\n",
       "      <th>tweets</th>\n",
       "      <th>sentiment</th>\n",
       "    </tr>\n",
       "  </thead>\n",
       "  <tbody>\n",
       "    <tr>\n",
       "      <th>7452</th>\n",
       "      <td>I want takoyaki :(( My #TeenChoice for #ChoiceInternationalArtist is #SuperJunior!</td>\n",
       "      <td>0.0</td>\n",
       "    </tr>\n",
       "    <tr>\n",
       "      <th>7220</th>\n",
       "      <td>@RedLipsteeq funny thing is someone said I was telling his life story :(</td>\n",
       "      <td>0.0</td>\n",
       "    </tr>\n",
       "    <tr>\n",
       "      <th>4828</th>\n",
       "      <td>vidcon :(((</td>\n",
       "      <td>0.0</td>\n",
       "    </tr>\n",
       "    <tr>\n",
       "      <th>7977</th>\n",
       "      <td>no date yet :(  https://t.co/Tu9R2CfSyx</td>\n",
       "      <td>0.0</td>\n",
       "    </tr>\n",
       "    <tr>\n",
       "      <th>2362</th>\n",
       "      <td>Took leave to rehearse for @MOEsg's #YouthCelebrate at @SGSportsHub. Keep my bro @GeraldKoh987 company on @987fm! :) http://t.co/Ajk6gD0Hdn</td>\n",
       "      <td>1.0</td>\n",
       "    </tr>\n",
       "  </tbody>\n",
       "</table>\n",
       "</div>"
      ],
      "text/plain": [
       "                                                                                                                                           tweets  \\\n",
       "7452                                                           I want takoyaki :(( My #TeenChoice for #ChoiceInternationalArtist is #SuperJunior!   \n",
       "7220                                                                     @RedLipsteeq funny thing is someone said I was telling his life story :(   \n",
       "4828                                                                                                                                  vidcon :(((   \n",
       "7977                                                                                                      no date yet :(  https://t.co/Tu9R2CfSyx   \n",
       "2362  Took leave to rehearse for @MOEsg's #YouthCelebrate at @SGSportsHub. Keep my bro @GeraldKoh987 company on @987fm! :) http://t.co/Ajk6gD0Hdn   \n",
       "\n",
       "      sentiment  \n",
       "7452        0.0  \n",
       "7220        0.0  \n",
       "4828        0.0  \n",
       "7977        0.0  \n",
       "2362        1.0  "
      ]
     },
     "execution_count": 261,
     "metadata": {},
     "output_type": "execute_result"
    }
   ],
   "source": [
    "train_df.sample(5)"
   ]
  },
  {
   "cell_type": "code",
   "execution_count": 265,
   "id": "51043cb8-3574-4b27-b180-dd79349228b5",
   "metadata": {},
   "outputs": [
    {
     "data": {
      "text/html": [
       "<div>\n",
       "<style scoped>\n",
       "    .dataframe tbody tr th:only-of-type {\n",
       "        vertical-align: middle;\n",
       "    }\n",
       "\n",
       "    .dataframe tbody tr th {\n",
       "        vertical-align: top;\n",
       "    }\n",
       "\n",
       "    .dataframe thead th {\n",
       "        text-align: right;\n",
       "    }\n",
       "</style>\n",
       "<table border=\"1\" class=\"dataframe\">\n",
       "  <thead>\n",
       "    <tr style=\"text-align: right;\">\n",
       "      <th></th>\n",
       "      <th>tweets</th>\n",
       "      <th>sentiment</th>\n",
       "    </tr>\n",
       "  </thead>\n",
       "  <tbody>\n",
       "    <tr>\n",
       "      <th>504</th>\n",
       "      <td>My sisters are the best!!!! Best pre bday celebration :))))</td>\n",
       "      <td>1.0</td>\n",
       "    </tr>\n",
       "    <tr>\n",
       "      <th>1476</th>\n",
       "      <td>@JayMcGuiness i want to meet you :(</td>\n",
       "      <td>0.0</td>\n",
       "    </tr>\n",
       "    <tr>\n",
       "      <th>253</th>\n",
       "      <td>Love it! :) 13 photos that explain why Ukraine is not Russia http://t.co/KfblbBBYkQ http://t.co/2EYOfYUWwy</td>\n",
       "      <td>1.0</td>\n",
       "    </tr>\n",
       "    <tr>\n",
       "      <th>1491</th>\n",
       "      <td>Feel so sick :(</td>\n",
       "      <td>0.0</td>\n",
       "    </tr>\n",
       "    <tr>\n",
       "      <th>649</th>\n",
       "      <td>@OMGitsBern_92  All sorted in the early hours. Thanks again for your help &amp;amp; raising the initial issue. makes the community what it is :)</td>\n",
       "      <td>1.0</td>\n",
       "    </tr>\n",
       "  </tbody>\n",
       "</table>\n",
       "</div>"
      ],
      "text/plain": [
       "                                                                                                                                            tweets  \\\n",
       "504                                                                                    My sisters are the best!!!! Best pre bday celebration :))))   \n",
       "1476                                                                                                           @JayMcGuiness i want to meet you :(   \n",
       "253                                     Love it! :) 13 photos that explain why Ukraine is not Russia http://t.co/KfblbBBYkQ http://t.co/2EYOfYUWwy   \n",
       "1491                                                                                                                               Feel so sick :(   \n",
       "649   @OMGitsBern_92  All sorted in the early hours. Thanks again for your help &amp; raising the initial issue. makes the community what it is :)   \n",
       "\n",
       "      sentiment  \n",
       "504         1.0  \n",
       "1476        0.0  \n",
       "253         1.0  \n",
       "1491        0.0  \n",
       "649         1.0  "
      ]
     },
     "execution_count": 265,
     "metadata": {},
     "output_type": "execute_result"
    }
   ],
   "source": [
    "test_df.sample(5)"
   ]
  },
  {
   "cell_type": "markdown",
   "id": "deaedc8f-a45e-4432-bed1-6cf115dc37db",
   "metadata": {
    "tags": []
   },
   "source": [
    "## Now building features:\n",
    "**From build_freqs fuction we will have a dictionary of {(words,label): freq} as our features**"
   ]
  },
  {
   "cell_type": "code",
   "execution_count": 106,
   "id": "6a1943b3-6629-41dd-96bc-1dbcc7d2b06f",
   "metadata": {},
   "outputs": [
    {
     "name": "stdout",
     "output_type": "stream",
     "text": [
      "<class 'collections.Counter'>\n",
      "length of features:  11338\n"
     ]
    }
   ],
   "source": [
    "features = build_freqs(X_train, y_train)\n",
    "print(type(features))\n",
    "print(\"length of features: \", len(features.keys()))"
   ]
  },
  {
   "cell_type": "code",
   "execution_count": 230,
   "id": "edf1eb3c-392f-4412-b87d-6e32c9de3d02",
   "metadata": {},
   "outputs": [
    {
     "data": {
      "text/plain": [
       "[(('followfriday', 1.0), 23),\n",
       " (('top', 1.0), 30),\n",
       " (('engag', 1.0), 7),\n",
       " (('member', 1.0), 14),\n",
       " (('commun', 1.0), 27)]"
      ]
     },
     "execution_count": 230,
     "metadata": {},
     "output_type": "execute_result"
    }
   ],
   "source": [
    "# Showing some of features\n",
    "list(features.items())[:5]"
   ]
  },
  {
   "cell_type": "markdown",
   "id": "e59b5a87-fc0f-4140-aa3d-c0753eb46bbe",
   "metadata": {},
   "source": [
    "**Now construct your features using extract_features function**\n",
    "the output of shape `[[1], [0], [0]] `  will be splitted and used to construct a dataframe of three features; [bias, pos, neg]"
   ]
  },
  {
   "cell_type": "code",
   "execution_count": 213,
   "id": "0a5351e0-a0c2-4a9d-bfa1-3d5aa4564cbd",
   "metadata": {},
   "outputs": [
    {
     "data": {
      "text/plain": [
       "0     [[1.0, 3020.0, 61.0]]\n",
       "1    [[1.0, 3573.0, 444.0]]\n",
       "2    [[1.0, 3005.0, 115.0]]\n",
       "3      [[1.0, 2862.0, 4.0]]\n",
       "4    [[1.0, 3119.0, 225.0]]\n",
       "Name: tweets, dtype: object"
      ]
     },
     "execution_count": 213,
     "metadata": {},
     "output_type": "execute_result"
    }
   ],
   "source": [
    "train_features = train_df['tweets'].apply(extract_features)\n",
    "train_features[:5]"
   ]
  },
  {
   "cell_type": "markdown",
   "id": "6ae1c2be-7884-4644-8639-02d99b1058f1",
   "metadata": {},
   "source": [
    "As we can see the features are formated as a numpay array and so we will extract them to build our features as follows:\n",
    "* bias: the bias term in the equation\n",
    "* pos: the positive score of tweet\n",
    "* neg: the negative score of the tweet"
   ]
  },
  {
   "cell_type": "code",
   "execution_count": 214,
   "id": "57ecd022-ad43-446e-bc6e-9283f22e6de8",
   "metadata": {},
   "outputs": [],
   "source": [
    "bias = [u[0,0] for u in train_features.to_numpy()]\n",
    "pos = [u[0,1] for u in train_features.to_numpy()]\n",
    "neg = [u[0,2] for u in train_features.to_numpy()]"
   ]
  },
  {
   "cell_type": "code",
   "execution_count": 215,
   "id": "74a17f77-ca4b-4111-9041-7d00b0217710",
   "metadata": {},
   "outputs": [],
   "source": [
    "X_train = pd.DataFrame({\"bias\": bias,\n",
    "              \"pos\": pos,\n",
    "              \"neg\": neg})"
   ]
  },
  {
   "cell_type": "code",
   "execution_count": 216,
   "id": "bd746a05-ff6b-4c3a-a233-0f84170c1a64",
   "metadata": {},
   "outputs": [
    {
     "data": {
      "text/html": [
       "<div>\n",
       "<style scoped>\n",
       "    .dataframe tbody tr th:only-of-type {\n",
       "        vertical-align: middle;\n",
       "    }\n",
       "\n",
       "    .dataframe tbody tr th {\n",
       "        vertical-align: top;\n",
       "    }\n",
       "\n",
       "    .dataframe thead th {\n",
       "        text-align: right;\n",
       "    }\n",
       "</style>\n",
       "<table border=\"1\" class=\"dataframe\">\n",
       "  <thead>\n",
       "    <tr style=\"text-align: right;\">\n",
       "      <th></th>\n",
       "      <th>bias</th>\n",
       "      <th>pos</th>\n",
       "      <th>neg</th>\n",
       "    </tr>\n",
       "  </thead>\n",
       "  <tbody>\n",
       "    <tr>\n",
       "      <th>6790</th>\n",
       "      <td>1.0</td>\n",
       "      <td>173.0</td>\n",
       "      <td>3824.0</td>\n",
       "    </tr>\n",
       "    <tr>\n",
       "      <th>2787</th>\n",
       "      <td>1.0</td>\n",
       "      <td>3165.0</td>\n",
       "      <td>324.0</td>\n",
       "    </tr>\n",
       "    <tr>\n",
       "      <th>453</th>\n",
       "      <td>1.0</td>\n",
       "      <td>3333.0</td>\n",
       "      <td>429.0</td>\n",
       "    </tr>\n",
       "    <tr>\n",
       "      <th>4540</th>\n",
       "      <td>1.0</td>\n",
       "      <td>279.0</td>\n",
       "      <td>702.0</td>\n",
       "    </tr>\n",
       "    <tr>\n",
       "      <th>1532</th>\n",
       "      <td>1.0</td>\n",
       "      <td>3422.0</td>\n",
       "      <td>106.0</td>\n",
       "    </tr>\n",
       "  </tbody>\n",
       "</table>\n",
       "</div>"
      ],
      "text/plain": [
       "      bias     pos     neg\n",
       "6790   1.0   173.0  3824.0\n",
       "2787   1.0  3165.0   324.0\n",
       "453    1.0  3333.0   429.0\n",
       "4540   1.0   279.0   702.0\n",
       "1532   1.0  3422.0   106.0"
      ]
     },
     "execution_count": 216,
     "metadata": {},
     "output_type": "execute_result"
    }
   ],
   "source": [
    "X_train.sample(5)"
   ]
  },
  {
   "cell_type": "code",
   "execution_count": 226,
   "id": "7e66269c-8776-4d06-b6fa-497bfcae00a0",
   "metadata": {},
   "outputs": [
    {
     "data": {
      "text/html": [
       "<div>\n",
       "<style scoped>\n",
       "    .dataframe tbody tr th:only-of-type {\n",
       "        vertical-align: middle;\n",
       "    }\n",
       "\n",
       "    .dataframe tbody tr th {\n",
       "        vertical-align: top;\n",
       "    }\n",
       "\n",
       "    .dataframe thead th {\n",
       "        text-align: right;\n",
       "    }\n",
       "</style>\n",
       "<table border=\"1\" class=\"dataframe\">\n",
       "  <thead>\n",
       "    <tr style=\"text-align: right;\">\n",
       "      <th></th>\n",
       "      <th>bias</th>\n",
       "      <th>pos</th>\n",
       "      <th>neg</th>\n",
       "      <th>sentiment</th>\n",
       "    </tr>\n",
       "  </thead>\n",
       "  <tbody>\n",
       "    <tr>\n",
       "      <th>2990</th>\n",
       "      <td>1.0</td>\n",
       "      <td>3089.0</td>\n",
       "      <td>219.0</td>\n",
       "      <td>1.0</td>\n",
       "    </tr>\n",
       "    <tr>\n",
       "      <th>2004</th>\n",
       "      <td>1.0</td>\n",
       "      <td>572.0</td>\n",
       "      <td>4.0</td>\n",
       "      <td>1.0</td>\n",
       "    </tr>\n",
       "    <tr>\n",
       "      <th>4710</th>\n",
       "      <td>1.0</td>\n",
       "      <td>431.0</td>\n",
       "      <td>4208.0</td>\n",
       "      <td>0.0</td>\n",
       "    </tr>\n",
       "    <tr>\n",
       "      <th>2456</th>\n",
       "      <td>1.0</td>\n",
       "      <td>105.0</td>\n",
       "      <td>0.0</td>\n",
       "      <td>1.0</td>\n",
       "    </tr>\n",
       "    <tr>\n",
       "      <th>6096</th>\n",
       "      <td>1.0</td>\n",
       "      <td>337.0</td>\n",
       "      <td>770.0</td>\n",
       "      <td>0.0</td>\n",
       "    </tr>\n",
       "  </tbody>\n",
       "</table>\n",
       "</div>"
      ],
      "text/plain": [
       "      bias     pos     neg  sentiment\n",
       "2990   1.0  3089.0   219.0        1.0\n",
       "2004   1.0   572.0     4.0        1.0\n",
       "4710   1.0   431.0  4208.0        0.0\n",
       "2456   1.0   105.0     0.0        1.0\n",
       "6096   1.0   337.0   770.0        0.0"
      ]
     },
     "execution_count": 226,
     "metadata": {},
     "output_type": "execute_result"
    }
   ],
   "source": [
    "# Adding the target to final train features\n",
    "X_train['sentiment'] = train_df['sentiment']\n",
    "X_train.sample(5)"
   ]
  },
  {
   "cell_type": "markdown",
   "id": "9699a9b7-0634-4eaf-a0f6-9cb3ed2b85c9",
   "metadata": {},
   "source": [
    "**Do the same thing with test data**"
   ]
  },
  {
   "cell_type": "code",
   "execution_count": 219,
   "id": "32c1363e-6172-458d-bfc2-ff75534cd390",
   "metadata": {},
   "outputs": [
    {
     "data": {
      "text/plain": [
       "0    [[1.0, 3214.0, 414.0]]\n",
       "1    [[1.0, 3236.0, 397.0]]\n",
       "2    [[1.0, 1363.0, 328.0]]\n",
       "3    [[1.0, 3164.0, 400.0]]\n",
       "4      [[1.0, 795.0, 27.0]]\n",
       "Name: tweets, dtype: object"
      ]
     },
     "execution_count": 219,
     "metadata": {},
     "output_type": "execute_result"
    }
   ],
   "source": [
    "test_features = test_df['tweets'].apply(extract_features)\n",
    "test_features[:5]"
   ]
  },
  {
   "cell_type": "code",
   "execution_count": 220,
   "id": "4d8aea95-7e93-4690-935c-f7e43dcdfde9",
   "metadata": {},
   "outputs": [],
   "source": [
    "bias = [u[0,0] for u in test_features.to_numpy()]\n",
    "pos = [u[0,1] for u in test_features.to_numpy()]\n",
    "neg = [u[0,2] for u in test_features.to_numpy()]"
   ]
  },
  {
   "cell_type": "code",
   "execution_count": 221,
   "id": "34ef244a-d4a6-4abf-afb6-feec30169585",
   "metadata": {},
   "outputs": [],
   "source": [
    "X_test = pd.DataFrame({\"bias\": bias,\n",
    "              \"pos\": pos,\n",
    "              \"neg\": neg})"
   ]
  },
  {
   "cell_type": "code",
   "execution_count": 222,
   "id": "ee733f96-9b5c-4164-954d-4f3d33ce73eb",
   "metadata": {},
   "outputs": [
    {
     "data": {
      "text/html": [
       "<div>\n",
       "<style scoped>\n",
       "    .dataframe tbody tr th:only-of-type {\n",
       "        vertical-align: middle;\n",
       "    }\n",
       "\n",
       "    .dataframe tbody tr th {\n",
       "        vertical-align: top;\n",
       "    }\n",
       "\n",
       "    .dataframe thead th {\n",
       "        text-align: right;\n",
       "    }\n",
       "</style>\n",
       "<table border=\"1\" class=\"dataframe\">\n",
       "  <thead>\n",
       "    <tr style=\"text-align: right;\">\n",
       "      <th></th>\n",
       "      <th>bias</th>\n",
       "      <th>pos</th>\n",
       "      <th>neg</th>\n",
       "    </tr>\n",
       "  </thead>\n",
       "  <tbody>\n",
       "    <tr>\n",
       "      <th>141</th>\n",
       "      <td>1.0</td>\n",
       "      <td>3680.0</td>\n",
       "      <td>312.0</td>\n",
       "    </tr>\n",
       "    <tr>\n",
       "      <th>1463</th>\n",
       "      <td>1.0</td>\n",
       "      <td>221.0</td>\n",
       "      <td>3976.0</td>\n",
       "    </tr>\n",
       "    <tr>\n",
       "      <th>1265</th>\n",
       "      <td>1.0</td>\n",
       "      <td>323.0</td>\n",
       "      <td>3883.0</td>\n",
       "    </tr>\n",
       "    <tr>\n",
       "      <th>1583</th>\n",
       "      <td>1.0</td>\n",
       "      <td>71.0</td>\n",
       "      <td>3855.0</td>\n",
       "    </tr>\n",
       "    <tr>\n",
       "      <th>479</th>\n",
       "      <td>1.0</td>\n",
       "      <td>3058.0</td>\n",
       "      <td>363.0</td>\n",
       "    </tr>\n",
       "  </tbody>\n",
       "</table>\n",
       "</div>"
      ],
      "text/plain": [
       "      bias     pos     neg\n",
       "141    1.0  3680.0   312.0\n",
       "1463   1.0   221.0  3976.0\n",
       "1265   1.0   323.0  3883.0\n",
       "1583   1.0    71.0  3855.0\n",
       "479    1.0  3058.0   363.0"
      ]
     },
     "execution_count": 222,
     "metadata": {},
     "output_type": "execute_result"
    }
   ],
   "source": [
    "X_test.sample(5)"
   ]
  },
  {
   "cell_type": "code",
   "execution_count": 227,
   "id": "59ae1660-efdf-41d7-9750-3c8939f8ae17",
   "metadata": {},
   "outputs": [
    {
     "data": {
      "text/html": [
       "<div>\n",
       "<style scoped>\n",
       "    .dataframe tbody tr th:only-of-type {\n",
       "        vertical-align: middle;\n",
       "    }\n",
       "\n",
       "    .dataframe tbody tr th {\n",
       "        vertical-align: top;\n",
       "    }\n",
       "\n",
       "    .dataframe thead th {\n",
       "        text-align: right;\n",
       "    }\n",
       "</style>\n",
       "<table border=\"1\" class=\"dataframe\">\n",
       "  <thead>\n",
       "    <tr style=\"text-align: right;\">\n",
       "      <th></th>\n",
       "      <th>bias</th>\n",
       "      <th>pos</th>\n",
       "      <th>neg</th>\n",
       "      <th>sentiment</th>\n",
       "    </tr>\n",
       "  </thead>\n",
       "  <tbody>\n",
       "    <tr>\n",
       "      <th>1127</th>\n",
       "      <td>1.0</td>\n",
       "      <td>15.0</td>\n",
       "      <td>3689.0</td>\n",
       "      <td>0.0</td>\n",
       "    </tr>\n",
       "    <tr>\n",
       "      <th>1122</th>\n",
       "      <td>1.0</td>\n",
       "      <td>154.0</td>\n",
       "      <td>3889.0</td>\n",
       "      <td>0.0</td>\n",
       "    </tr>\n",
       "    <tr>\n",
       "      <th>962</th>\n",
       "      <td>1.0</td>\n",
       "      <td>3486.0</td>\n",
       "      <td>703.0</td>\n",
       "      <td>1.0</td>\n",
       "    </tr>\n",
       "    <tr>\n",
       "      <th>133</th>\n",
       "      <td>1.0</td>\n",
       "      <td>3055.0</td>\n",
       "      <td>248.0</td>\n",
       "      <td>1.0</td>\n",
       "    </tr>\n",
       "    <tr>\n",
       "      <th>1293</th>\n",
       "      <td>1.0</td>\n",
       "      <td>1.0</td>\n",
       "      <td>3663.0</td>\n",
       "      <td>0.0</td>\n",
       "    </tr>\n",
       "  </tbody>\n",
       "</table>\n",
       "</div>"
      ],
      "text/plain": [
       "      bias     pos     neg  sentiment\n",
       "1127   1.0    15.0  3689.0        0.0\n",
       "1122   1.0   154.0  3889.0        0.0\n",
       "962    1.0  3486.0   703.0        1.0\n",
       "133    1.0  3055.0   248.0        1.0\n",
       "1293   1.0     1.0  3663.0        0.0"
      ]
     },
     "execution_count": 227,
     "metadata": {},
     "output_type": "execute_result"
    }
   ],
   "source": [
    "# Adding the target to final train features\n",
    "X_test['sentiment'] = test_df['sentiment']\n",
    "X_test.sample(5)"
   ]
  },
  {
   "cell_type": "markdown",
   "id": "8f6c6b79-a41c-4b93-a4f9-34ce6172ea8d",
   "metadata": {},
   "source": [
    "___\n",
    "## Export features"
   ]
  },
  {
   "cell_type": "code",
   "execution_count": 229,
   "id": "c9cbd34d-277a-4ec1-8534-764f26936ea5",
   "metadata": {},
   "outputs": [],
   "source": [
    "X_train.to_pickle(FINAL_TRAIN)\n",
    "X_test.to_pickle(FINAL_TEST)"
   ]
  },
  {
   "cell_type": "code",
   "execution_count": 232,
   "id": "c9efb7fb-19d5-465a-b007-8369ff24307f",
   "metadata": {},
   "outputs": [],
   "source": [
    "with open(\"../data/objects/features.pkl\", \"wb\") as handle:\n",
    "    pickle.dump(features, handle)"
   ]
  }
 ],
 "metadata": {
  "kernelspec": {
   "display_name": "Python 3 (ipykernel)",
   "language": "python",
   "name": "python3"
  },
  "language_info": {
   "codemirror_mode": {
    "name": "ipython",
    "version": 3
   },
   "file_extension": ".py",
   "mimetype": "text/x-python",
   "name": "python",
   "nbconvert_exporter": "python",
   "pygments_lexer": "ipython3",
   "version": "3.8.8"
  }
 },
 "nbformat": 4,
 "nbformat_minor": 5
}
