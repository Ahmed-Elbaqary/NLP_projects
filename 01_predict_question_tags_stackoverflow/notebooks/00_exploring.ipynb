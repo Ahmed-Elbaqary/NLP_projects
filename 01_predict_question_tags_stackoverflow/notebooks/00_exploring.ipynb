{
 "cells": [
  {
   "cell_type": "code",
   "execution_count": 1,
   "id": "ecc740f9-4035-48c9-b5fd-5c3b60082b7e",
   "metadata": {},
   "outputs": [],
   "source": [
    "DATA_PATH = \"../data/raw/train.tsv\""
   ]
  },
  {
   "cell_type": "code",
   "execution_count": 9,
   "id": "26fa37e8-9c65-4fa5-8243-9e97d153be36",
   "metadata": {},
   "outputs": [
    {
     "name": "stderr",
     "output_type": "stream",
     "text": [
      "[nltk_data] Downloading package stopwords to\n",
      "[nltk_data]     C:\\Users\\ahmed\\AppData\\Roaming\\nltk_data...\n",
      "[nltk_data]   Package stopwords is already up-to-date!\n"
     ]
    }
   ],
   "source": [
    "# load packages\n",
    "import pandas as pd\n",
    "import numpy as np\n",
    "\n",
    "import nltk\n",
    "nltk.download(\"stopwords\")\n",
    "from nltk.corpus import stopwords\n",
    "\n",
    "# Get the literal data type of data read from files\n",
    "from ast import literal_eval"
   ]
  },
  {
   "cell_type": "markdown",
   "id": "6f32c3ae-81c3-47fb-8b4b-278ca82773e3",
   "metadata": {},
   "source": [
    "___\n",
    "## Functions:"
   ]
  },
  {
   "cell_type": "code",
   "execution_count": 13,
   "id": "890bb50b-4002-42e1-91f0-89fb7bde87dc",
   "metadata": {},
   "outputs": [],
   "source": [
    "def read_data(file_path):\n",
    "    \"\"\"\n",
    "    Read tap separated data; we applied the literal_eval function\n",
    "    on it so as to evaluate the exact data type of tags from the file\n",
    "    \"\"\"\n",
    "    data = pd.read_csv(file_path, sep='\\t')\n",
    "    data['tags'] = data['tags'].apply(literal_eval)\n",
    "    return data"
   ]
  },
  {
   "cell_type": "markdown",
   "id": "cc956541-22f8-41f0-a19b-af1497eb3b8f",
   "metadata": {},
   "source": [
    "___\n",
    "## Read data"
   ]
  },
  {
   "cell_type": "code",
   "execution_count": 42,
   "id": "333820a8-b5a2-4c9a-9ebf-e5310146841b",
   "metadata": {},
   "outputs": [],
   "source": [
    "raw_train = read_data(DATA_PATH)"
   ]
  },
  {
   "cell_type": "code",
   "execution_count": 43,
   "id": "bcdc373f-303b-4901-85d9-506a540476de",
   "metadata": {},
   "outputs": [
    {
     "data": {
      "text/plain": [
       "title    Using handler OnBegindrag with CTreeCtrl\n",
       "tags                                        [c++]\n",
       "Name: 15540, dtype: object"
      ]
     },
     "execution_count": 43,
     "metadata": {},
     "output_type": "execute_result"
    }
   ],
   "source": [
    "raw_train.sample(1).iloc[0]"
   ]
  },
  {
   "cell_type": "code",
   "execution_count": 46,
   "id": "e7ee9fd2-c482-4383-9a24-a7a1d5e7a5a3",
   "metadata": {},
   "outputs": [
    {
     "name": "stdout",
     "output_type": "stream",
     "text": [
      "<class 'pandas.core.frame.DataFrame'>\n",
      "RangeIndex: 100000 entries, 0 to 99999\n",
      "Data columns (total 2 columns):\n",
      " #   Column  Non-Null Count   Dtype \n",
      "---  ------  --------------   ----- \n",
      " 0   title   100000 non-null  object\n",
      " 1   tags    100000 non-null  object\n",
      "dtypes: object(2)\n",
      "memory usage: 1.5+ MB\n"
     ]
    }
   ],
   "source": [
    "train.info()"
   ]
  },
  {
   "cell_type": "code",
   "execution_count": null,
   "id": "48cf4c01-af60-4817-826f-256f4e13d498",
   "metadata": {},
   "outputs": [],
   "source": []
  }
 ],
 "metadata": {
  "kernelspec": {
   "display_name": "Python 3 (ipykernel)",
   "language": "python",
   "name": "python3"
  },
  "language_info": {
   "codemirror_mode": {
    "name": "ipython",
    "version": 3
   },
   "file_extension": ".py",
   "mimetype": "text/x-python",
   "name": "python",
   "nbconvert_exporter": "python",
   "pygments_lexer": "ipython3",
   "version": "3.8.8"
  }
 },
 "nbformat": 4,
 "nbformat_minor": 5
}
