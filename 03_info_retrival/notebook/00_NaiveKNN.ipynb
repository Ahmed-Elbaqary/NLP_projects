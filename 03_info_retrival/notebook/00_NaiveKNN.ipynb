{
 "cells": [
  {
   "cell_type": "markdown",
   "id": "78a6be44-907a-4e57-be71-ec8f022903a8",
   "metadata": {},
   "source": [
    "**When exploring a large set of documents such as Wikipedia, news articles, stackoverflow, etc. it can be useful to find the most similar material.**\n",
    "\n",
    "**In this task we are going to use K-nearest neighbor algorithm to retrieve the most relevant K documents by the words mentioned in our documnet**\n",
    "\n",
    "**We will use brute_force KNN to find the exact NN, and we will use both methods:**\n",
    "1. Naive Word count document representation.\n",
    "2. TF-IDF document representation.\n",
    "___"
   ]
  },
  {
   "cell_type": "code",
   "execution_count": 1,
   "id": "ab6d2701-0590-4f97-81d1-67a631b6a1bf",
   "metadata": {},
   "outputs": [],
   "source": [
    "DATA_PATH = \"../data/people_wiki.csv\""
   ]
  },
  {
   "cell_type": "code",
   "execution_count": 2,
   "id": "c5d557bd-e963-439f-ae3f-5bafb29db33a",
   "metadata": {},
   "outputs": [],
   "source": [
    "# Load packages\n",
    "import pandas as pd\n",
    "import numpy as np\n",
    "\n",
    "import re\n",
    "import string\n",
    "from nltk.corpus import stopwords\n",
    "\n",
    "from collections import Counter\n",
    "from sklearn.feature_extraction.text import CountVectorizer\n",
    "from sklearn.feature_extraction.text import TfidfVectorizer\n",
    "\n",
    "from sklearn.neighbors import NearestNeighbors\n",
    "\n",
    "pd.set_option(\"display.max_colwidth\", 500)"
   ]
  },
  {
   "cell_type": "markdown",
   "id": "bebb1a9e-0538-4ba7-8a53-e8e4d9a51f84",
   "metadata": {},
   "source": [
    "___\n",
    "## Functions"
   ]
  },
  {
   "cell_type": "code",
   "execution_count": 3,
   "id": "e1e5242b-50cc-403c-815b-d490a8f469b1",
   "metadata": {},
   "outputs": [],
   "source": [
    "REPLACE_BY_SPACE_RE = re.compile('[/(){}\\[\\]\\|@,;]')\n",
    "BAD_SYMBOLS_RE = re.compile('[^0-9a-z #+_]')\n",
    "STOPWORDS = set(stopwords.words(\"english\"))\n",
    "TRANSLATOR=str.maketrans({k:'' for k in string.punctuation})\n",
    "\n",
    "def text_prepare(text):\n",
    "    \"\"\"\n",
    "    text: a string to process\n",
    "    return: modified initial string\n",
    "    \"\"\"\n",
    "    text = text.lower()\n",
    "    text = text.translate(TRANSLATOR)\n",
    "    text = REPLACE_BY_SPACE_RE.sub(' ', text)\n",
    "    text = BAD_SYMBOLS_RE.sub('', text)\n",
    "    text = ' '.join([x for x in text.split() if x and x not in STOPWORDS])\n",
    "    return text"
   ]
  },
  {
   "cell_type": "code",
   "execution_count": 4,
   "id": "965f03c7-af36-49f8-aeb2-c7e8e5f03161",
   "metadata": {},
   "outputs": [],
   "source": [
    "def top_words(name):\n",
    "    \"\"\"\n",
    "    Get the most frequent words for the celeberity page\n",
    "    \"\"\"\n",
    "    result = Counter()\n",
    "    row = df[df['name']==name]['word_counts'].iloc[0]\n",
    "    for key in row.keys():\n",
    "        if key in SORT_BY_FREQ:\n",
    "            result[key] = row[key]\n",
    "\n",
    "    df_ = pd.DataFrame(result.most_common(10), columns=['word', 'count'])\n",
    "    return df_"
   ]
  },
  {
   "cell_type": "code",
   "execution_count": 5,
   "id": "3330a0c7-58f4-48d0-8c8f-6fa73ee0ccec",
   "metadata": {},
   "outputs": [],
   "source": [
    "def get_top_n_words(name, vectorizer, count_matrix, n):\n",
    "    \n",
    "    index = df[df['name'] == name].index[0]\n",
    "    feature_array = np.array(vectorizer.get_feature_names_out())\n",
    "    sorting = np.argsort(count_matrix[index].toarray()).flatten()[::-1]\n",
    "\n",
    "    top_n = feature_array[sorting][:n]\n",
    "    counts = count_matrix[index].toarray()[0, sorting[:n]]\n",
    "\n",
    "    result = pd.DataFrame({\"word\":top_n, \"vlaue\": counts})\n",
    "    return result"
   ]
  },
  {
   "cell_type": "markdown",
   "id": "db937986-9250-44e5-a4e6-901d40c541fd",
   "metadata": {},
   "source": [
    "___\n",
    "## Read Data:"
   ]
  },
  {
   "cell_type": "code",
   "execution_count": 6,
   "id": "6278a782-7770-4948-acbf-eb37ee0fe6f7",
   "metadata": {},
   "outputs": [],
   "source": [
    "raw_df = pd.read_csv(DATA_PATH)"
   ]
  },
  {
   "cell_type": "code",
   "execution_count": 7,
   "id": "0dab75ab-92a1-4e84-a200-f73408502366",
   "metadata": {},
   "outputs": [
    {
     "data": {
      "text/plain": [
       "(59071, 3)"
      ]
     },
     "execution_count": 7,
     "metadata": {},
     "output_type": "execute_result"
    }
   ],
   "source": [
    "# Dsiplay shape of df\n",
    "raw_df.shape"
   ]
  },
  {
   "cell_type": "code",
   "execution_count": 8,
   "id": "2c079f01-1b8e-44ce-bd61-b3a9bcb7691e",
   "metadata": {},
   "outputs": [
    {
     "data": {
      "text/html": [
       "<div>\n",
       "<style scoped>\n",
       "    .dataframe tbody tr th:only-of-type {\n",
       "        vertical-align: middle;\n",
       "    }\n",
       "\n",
       "    .dataframe tbody tr th {\n",
       "        vertical-align: top;\n",
       "    }\n",
       "\n",
       "    .dataframe thead th {\n",
       "        text-align: right;\n",
       "    }\n",
       "</style>\n",
       "<table border=\"1\" class=\"dataframe\">\n",
       "  <thead>\n",
       "    <tr style=\"text-align: right;\">\n",
       "      <th></th>\n",
       "      <th>URI</th>\n",
       "      <th>name</th>\n",
       "      <th>text</th>\n",
       "    </tr>\n",
       "  </thead>\n",
       "  <tbody>\n",
       "    <tr>\n",
       "      <th>25011</th>\n",
       "      <td>&lt;http://dbpedia.org/resource/Hilary_Tann&gt;</td>\n",
       "      <td>Hilary Tann</td>\n",
       "      <td>hilary tann born 1947 is a welsh composer now based in the united statestann holds degrees in music composition from the university of wales cardiff and princeton university her compositions are published by oxford university press tanns orchestral works have been released on the northsouth recordings cd here the cliffs music of great integrity impeccable craft and genuine expressive ambition robert carl fanfare 36i her overture with the heather and small birds commissioned by the 1994 cardi...</td>\n",
       "    </tr>\n",
       "    <tr>\n",
       "      <th>33644</th>\n",
       "      <td>&lt;http://dbpedia.org/resource/Justin_Jeffre&gt;</td>\n",
       "      <td>Justin Jeffre</td>\n",
       "      <td>justin paul jeffre born on february 25 1973 is an american pop singer and politician a longtime resident and vocal supporter of cincinnati jeffre is probably best known as a member of the multiplatinum selling boy band 98 degreesbefore shooting to super stardom jeffre was a student at the school for creative and performing arts in cincinnati it was there that he first became friends with nick lachey the two would later team up with drew lachey and jeff timmons to form 98 degrees the group wa...</td>\n",
       "    </tr>\n",
       "    <tr>\n",
       "      <th>54620</th>\n",
       "      <td>&lt;http://dbpedia.org/resource/Jeffrey_Jordan&gt;</td>\n",
       "      <td>Jeffrey Jordan</td>\n",
       "      <td>jeffrey michael jordan born november 18 1988 is an american former basketball player who played for the university of central florida knights and the university of illinois fighting illini he played high school basketball for loyola academy in wilmette illinois jordan is the elder son of retired nba mvp michael jordan who played for the chicago bulls and washington wizards and the older brother of marcus jordan jeffrey jordan has been the subject of local and national media attention and had...</td>\n",
       "    </tr>\n",
       "  </tbody>\n",
       "</table>\n",
       "</div>"
      ],
      "text/plain": [
       "                                                URI            name  \\\n",
       "25011     <http://dbpedia.org/resource/Hilary_Tann>     Hilary Tann   \n",
       "33644   <http://dbpedia.org/resource/Justin_Jeffre>   Justin Jeffre   \n",
       "54620  <http://dbpedia.org/resource/Jeffrey_Jordan>  Jeffrey Jordan   \n",
       "\n",
       "                                                                                                                                                                                                                                                                                                                                                                                                                                                                                                                      text  \n",
       "25011  hilary tann born 1947 is a welsh composer now based in the united statestann holds degrees in music composition from the university of wales cardiff and princeton university her compositions are published by oxford university press tanns orchestral works have been released on the northsouth recordings cd here the cliffs music of great integrity impeccable craft and genuine expressive ambition robert carl fanfare 36i her overture with the heather and small birds commissioned by the 1994 cardi...  \n",
       "33644  justin paul jeffre born on february 25 1973 is an american pop singer and politician a longtime resident and vocal supporter of cincinnati jeffre is probably best known as a member of the multiplatinum selling boy band 98 degreesbefore shooting to super stardom jeffre was a student at the school for creative and performing arts in cincinnati it was there that he first became friends with nick lachey the two would later team up with drew lachey and jeff timmons to form 98 degrees the group wa...  \n",
       "54620  jeffrey michael jordan born november 18 1988 is an american former basketball player who played for the university of central florida knights and the university of illinois fighting illini he played high school basketball for loyola academy in wilmette illinois jordan is the elder son of retired nba mvp michael jordan who played for the chicago bulls and washington wizards and the older brother of marcus jordan jeffrey jordan has been the subject of local and national media attention and had...  "
      ]
     },
     "execution_count": 8,
     "metadata": {},
     "output_type": "execute_result"
    }
   ],
   "source": [
    "raw_df.sample(3)"
   ]
  },
  {
   "cell_type": "markdown",
   "id": "64691ece-c127-427c-a275-abe15412be7f",
   "metadata": {},
   "source": [
    "___\n",
    "## Make copy and prepare text:\n",
    "**We will remove stopwords and punctuations and clean our text to prepare it for constructing BOW**"
   ]
  },
  {
   "cell_type": "code",
   "execution_count": 9,
   "id": "dea7f8a6-7bf1-4dcb-b95f-e65dd8fde20a",
   "metadata": {},
   "outputs": [],
   "source": [
    "df = raw_df.copy()"
   ]
  },
  {
   "cell_type": "code",
   "execution_count": 10,
   "id": "2d4bc9d5-1a85-438c-a16e-d7af7ee6c2f8",
   "metadata": {},
   "outputs": [],
   "source": [
    "df['clean_text'] = df['text'].apply(text_prepare)"
   ]
  },
  {
   "cell_type": "code",
   "execution_count": 11,
   "id": "533d9695-1c3f-45bc-a1ab-9c3dc98e5de0",
   "metadata": {},
   "outputs": [
    {
     "data": {
      "text/html": [
       "<div>\n",
       "<style scoped>\n",
       "    .dataframe tbody tr th:only-of-type {\n",
       "        vertical-align: middle;\n",
       "    }\n",
       "\n",
       "    .dataframe tbody tr th {\n",
       "        vertical-align: top;\n",
       "    }\n",
       "\n",
       "    .dataframe thead th {\n",
       "        text-align: right;\n",
       "    }\n",
       "</style>\n",
       "<table border=\"1\" class=\"dataframe\">\n",
       "  <thead>\n",
       "    <tr style=\"text-align: right;\">\n",
       "      <th></th>\n",
       "      <th>URI</th>\n",
       "      <th>name</th>\n",
       "      <th>text</th>\n",
       "      <th>clean_text</th>\n",
       "    </tr>\n",
       "  </thead>\n",
       "  <tbody>\n",
       "    <tr>\n",
       "      <th>28908</th>\n",
       "      <td>&lt;http://dbpedia.org/resource/Tommy_Jackson_(footballer,_born_1946)&gt;</td>\n",
       "      <td>Tommy Jackson (footballer, born 1946)</td>\n",
       "      <td>thomas tommy jackson born 3 november 1946 in belfast is a former northern irish footballer who played as a midfielder for everton nottingham forest and manchester united he also amassed a total of 35 caps for the northern ireland national football team following his playing career he went into management taking charge of various clubs in both northern ireland and the republic of irelandjackson began his professional football career playing for glentoran he became a regular in the glentoran s...</td>\n",
       "      <td>thomas tommy jackson born 3 november 1946 belfast former northern irish footballer played midfielder everton nottingham forest manchester united also amassed total 35 caps northern ireland national football team following playing career went management taking charge various clubs northern ireland republic irelandjackson began professional football career playing glentoran became regular glentoran side age 21 leaguewinners medals 1967 1968 signing everton february 1968 two seasons toffees jac...</td>\n",
       "    </tr>\n",
       "    <tr>\n",
       "      <th>13022</th>\n",
       "      <td>&lt;http://dbpedia.org/resource/Kristine_W&gt;</td>\n",
       "      <td>Kristine W</td>\n",
       "      <td>kristine weitz born june 8 1962 known by the stage name of kristine w is an american singersongwriter she has released seven albums in 2004 the advocate stated that she had helped shape the nightlife of the past decade her first 8 singles all reached 1 on the billboard hot dance club play charts which set a new record as of 2009 14 of 15 singles had reached the top of the billboard dance chartsweitz was born and raised in pasco washington her mother was a performer weitz won the miss washing...</td>\n",
       "      <td>kristine weitz born june 8 1962 known stage name kristine w american singersongwriter released seven albums 2004 advocate stated helped shape nightlife past decade first 8 singles reached 1 billboard hot dance club play charts set new record 2009 14 15 singles reached top billboard dance chartsweitz born raised pasco washington mother performer weitz miss washington 19801981 title swimsuit talent miss america pageant moved las vegas enrolled university nevada las vegas graduated ba communica...</td>\n",
       "    </tr>\n",
       "    <tr>\n",
       "      <th>24529</th>\n",
       "      <td>&lt;http://dbpedia.org/resource/Shamsher_Singh_Sandhu&gt;</td>\n",
       "      <td>Shamsher Singh Sandhu</td>\n",
       "      <td>shamsher singh sandhu ma medborn march 31937 is a well known canadian of punjabi origin gazal writer or gazalgo he is best known for his beautiful gazals he lives in calgary alberta canada since 1997 he learned the art of writing gazal and started writing gazals in 2002 after the age of 65 since then he has published 6 books containing 513 gazals as follows 1 ga zindgi de geet toon printed published in calgary 2003 2 jot sahas de jaga printed published in calgary 2005 3 ban shua toon printed...</td>\n",
       "      <td>shamsher singh sandhu medborn march 31937 well known canadian punjabi origin gazal writer gazalgo best known beautiful gazals lives calgary alberta canada since 1997 learned art writing gazal started writing gazals 2002 age 65 since published 6 books containing 513 gazals follows 1 ga zindgi de geet toon printed published calgary 2003 2 jot sahas de jaga printed published calgary 2005 3 ban shua toon printed published calgary 2006 4 roshni de bhal printed published calgary 2007 5 sulagdi lee...</td>\n",
       "    </tr>\n",
       "    <tr>\n",
       "      <th>52874</th>\n",
       "      <td>&lt;http://dbpedia.org/resource/Stephan_P._Mickle&gt;</td>\n",
       "      <td>Stephan P. Mickle</td>\n",
       "      <td>stephan p mickle born 1944 is an american lawyer and judge of the united states district court for the northern district of florida mickle was born in new york city in 1965 he received his bachelor of arts degree in political science he was the first black student to graduate from the university of florida in 1966 he received his med from the university of florida additionally he received his jd from the university of florida college of law in 1970 he was the second black student to graduate...</td>\n",
       "      <td>stephan p mickle born 1944 american lawyer judge united states district court northern district florida mickle born new york city 1965 received bachelor arts degree political science first black student graduate university florida 1966 received med university florida additionally received jd university florida college law 1970 second black student graduate university florida fredric g levin college lawmickle worked briefly attorney office legal services us office equal opportunity washington...</td>\n",
       "    </tr>\n",
       "    <tr>\n",
       "      <th>4813</th>\n",
       "      <td>&lt;http://dbpedia.org/resource/Dolcenera&gt;</td>\n",
       "      <td>Dolcenera</td>\n",
       "      <td>emanuela trane born 16 may 1977 better known by her stage name dolcenera is an italian singer songwriter and actress she rose to fame in 2003 after winning the newcomers section of the sanremo music festival but she achieved commercial success in italy only in 2005 when she won the musicbased reality show music farm and she released her second album un mondo perfetto in 2005 she was also awarded best new artist of the year at the italian meeting of independent record labels and she received ...</td>\n",
       "      <td>emanuela trane born 16 may 1977 better known stage name dolcenera italian singer songwriter actress rose fame 2003 winning newcomers section sanremo music festival achieved commercial success italy 2005 musicbased reality show music farm released second album un mondo perfetto 2005 also awarded best new artist year italian meeting independent record labels received de andr award best emerging artistdolcenera participated sanremo music festival 2006when sang hit single com straordinaria la vi...</td>\n",
       "    </tr>\n",
       "  </tbody>\n",
       "</table>\n",
       "</div>"
      ],
      "text/plain": [
       "                                                                       URI  \\\n",
       "28908  <http://dbpedia.org/resource/Tommy_Jackson_(footballer,_born_1946)>   \n",
       "13022                             <http://dbpedia.org/resource/Kristine_W>   \n",
       "24529                  <http://dbpedia.org/resource/Shamsher_Singh_Sandhu>   \n",
       "52874                      <http://dbpedia.org/resource/Stephan_P._Mickle>   \n",
       "4813                               <http://dbpedia.org/resource/Dolcenera>   \n",
       "\n",
       "                                        name  \\\n",
       "28908  Tommy Jackson (footballer, born 1946)   \n",
       "13022                             Kristine W   \n",
       "24529                  Shamsher Singh Sandhu   \n",
       "52874                      Stephan P. Mickle   \n",
       "4813                               Dolcenera   \n",
       "\n",
       "                                                                                                                                                                                                                                                                                                                                                                                                                                                                                                                      text  \\\n",
       "28908  thomas tommy jackson born 3 november 1946 in belfast is a former northern irish footballer who played as a midfielder for everton nottingham forest and manchester united he also amassed a total of 35 caps for the northern ireland national football team following his playing career he went into management taking charge of various clubs in both northern ireland and the republic of irelandjackson began his professional football career playing for glentoran he became a regular in the glentoran s...   \n",
       "13022  kristine weitz born june 8 1962 known by the stage name of kristine w is an american singersongwriter she has released seven albums in 2004 the advocate stated that she had helped shape the nightlife of the past decade her first 8 singles all reached 1 on the billboard hot dance club play charts which set a new record as of 2009 14 of 15 singles had reached the top of the billboard dance chartsweitz was born and raised in pasco washington her mother was a performer weitz won the miss washing...   \n",
       "24529  shamsher singh sandhu ma medborn march 31937 is a well known canadian of punjabi origin gazal writer or gazalgo he is best known for his beautiful gazals he lives in calgary alberta canada since 1997 he learned the art of writing gazal and started writing gazals in 2002 after the age of 65 since then he has published 6 books containing 513 gazals as follows 1 ga zindgi de geet toon printed published in calgary 2003 2 jot sahas de jaga printed published in calgary 2005 3 ban shua toon printed...   \n",
       "52874  stephan p mickle born 1944 is an american lawyer and judge of the united states district court for the northern district of florida mickle was born in new york city in 1965 he received his bachelor of arts degree in political science he was the first black student to graduate from the university of florida in 1966 he received his med from the university of florida additionally he received his jd from the university of florida college of law in 1970 he was the second black student to graduate...   \n",
       "4813   emanuela trane born 16 may 1977 better known by her stage name dolcenera is an italian singer songwriter and actress she rose to fame in 2003 after winning the newcomers section of the sanremo music festival but she achieved commercial success in italy only in 2005 when she won the musicbased reality show music farm and she released her second album un mondo perfetto in 2005 she was also awarded best new artist of the year at the italian meeting of independent record labels and she received ...   \n",
       "\n",
       "                                                                                                                                                                                                                                                                                                                                                                                                                                                                                                                clean_text  \n",
       "28908  thomas tommy jackson born 3 november 1946 belfast former northern irish footballer played midfielder everton nottingham forest manchester united also amassed total 35 caps northern ireland national football team following playing career went management taking charge various clubs northern ireland republic irelandjackson began professional football career playing glentoran became regular glentoran side age 21 leaguewinners medals 1967 1968 signing everton february 1968 two seasons toffees jac...  \n",
       "13022  kristine weitz born june 8 1962 known stage name kristine w american singersongwriter released seven albums 2004 advocate stated helped shape nightlife past decade first 8 singles reached 1 billboard hot dance club play charts set new record 2009 14 15 singles reached top billboard dance chartsweitz born raised pasco washington mother performer weitz miss washington 19801981 title swimsuit talent miss america pageant moved las vegas enrolled university nevada las vegas graduated ba communica...  \n",
       "24529  shamsher singh sandhu medborn march 31937 well known canadian punjabi origin gazal writer gazalgo best known beautiful gazals lives calgary alberta canada since 1997 learned art writing gazal started writing gazals 2002 age 65 since published 6 books containing 513 gazals follows 1 ga zindgi de geet toon printed published calgary 2003 2 jot sahas de jaga printed published calgary 2005 3 ban shua toon printed published calgary 2006 4 roshni de bhal printed published calgary 2007 5 sulagdi lee...  \n",
       "52874  stephan p mickle born 1944 american lawyer judge united states district court northern district florida mickle born new york city 1965 received bachelor arts degree political science first black student graduate university florida 1966 received med university florida additionally received jd university florida college law 1970 second black student graduate university florida fredric g levin college lawmickle worked briefly attorney office legal services us office equal opportunity washington...  \n",
       "4813   emanuela trane born 16 may 1977 better known stage name dolcenera italian singer songwriter actress rose fame 2003 winning newcomers section sanremo music festival achieved commercial success italy 2005 musicbased reality show music farm released second album un mondo perfetto 2005 also awarded best new artist year italian meeting independent record labels received de andr award best emerging artistdolcenera participated sanremo music festival 2006when sang hit single com straordinaria la vi...  "
      ]
     },
     "execution_count": 11,
     "metadata": {},
     "output_type": "execute_result"
    }
   ],
   "source": [
    "df.sample(5)"
   ]
  },
  {
   "cell_type": "markdown",
   "id": "a68f63d5-a49b-4a44-a555-3e9de7ac54c2",
   "metadata": {},
   "source": [
    "**Now construct a dictionary of the most frequent words after preparing text**"
   ]
  },
  {
   "cell_type": "code",
   "execution_count": 12,
   "id": "5b470f67-920c-49fd-8304-33f0d0a17bbf",
   "metadata": {},
   "outputs": [],
   "source": [
    "words_count = Counter()\n",
    "\n",
    "for text in df['clean_text']:\n",
    "    for word in text.split():\n",
    "        words_count[word] += 1"
   ]
  },
  {
   "cell_type": "code",
   "execution_count": 33,
   "id": "67dc56ff-a24e-4eeb-a0d9-a09f42643dd6",
   "metadata": {},
   "outputs": [],
   "source": [
    "DICT_SIZE = 7000\n",
    "\n",
    "# find the most common words in all the corpus\n",
    "SORT_BY_FREQ = [x[0] for x in words_count.most_common(DICT_SIZE)]"
   ]
  },
  {
   "cell_type": "markdown",
   "id": "8ad54a6c-6b9b-4970-a8ef-24aef05e97f3",
   "metadata": {},
   "source": [
    "**The above dictionary has the top 50000 frequent words in the whole corpus and so we can use it in our vectorizer**\n",
    "\n",
    "### Now construct the BOW for the text"
   ]
  },
  {
   "cell_type": "code",
   "execution_count": 34,
   "id": "323d6272-d502-437d-80fd-acb660715246",
   "metadata": {},
   "outputs": [],
   "source": [
    "# We will use the most common words to use less space and be more accurate\n",
    "vectorizer = CountVectorizer(token_pattern=r'\\b\\w+\\b', vocabulary=SORT_BY_FREQ)\n",
    "\n",
    "word_count_matrix = vectorizer.fit_transform(df['clean_text'])"
   ]
  },
  {
   "cell_type": "markdown",
   "id": "ba51255f-a291-42ea-9be5-f34faa3a61a9",
   "metadata": {},
   "source": [
    "### Now construct our KNN model "
   ]
  },
  {
   "cell_type": "code",
   "execution_count": 35,
   "id": "33fce4e3-0b43-4195-9cb5-d407dc553a69",
   "metadata": {},
   "outputs": [],
   "source": [
    "model = NearestNeighbors(metric=\"euclidean\", algorithm=\"brute\")"
   ]
  },
  {
   "cell_type": "code",
   "execution_count": 36,
   "id": "360d68ea-1b68-4929-a16c-8f2887fc1926",
   "metadata": {},
   "outputs": [
    {
     "data": {
      "text/plain": [
       "NearestNeighbors(algorithm='brute', metric='euclidean')"
      ]
     },
     "execution_count": 36,
     "metadata": {},
     "output_type": "execute_result"
    }
   ],
   "source": [
    "model.fit(word_count_matrix)"
   ]
  },
  {
   "cell_type": "markdown",
   "id": "c57c561f-1493-4523-b7ef-0d17ba41de2f",
   "metadata": {},
   "source": [
    "**Now find the most relevant wiki page to the person we search for**\n",
    "for example we are searching for the people who are related to 'Barack Obama' and so we will find the nearest 10 characters whose wiki page are the most similar to Obama's page and so on\n",
    "\n",
    "first we will find the index of Obama's page and then we will use it in our model and so it will search in the entire corpus and so it will find the top 10 characters and retrieve it, then we will construct a dataframe and join it with the original dataframe using indices to retrieve the most common characters"
   ]
  },
  {
   "cell_type": "code",
   "execution_count": 37,
   "id": "b732e5ac-63e1-4610-8b0d-695dbd09aacb",
   "metadata": {},
   "outputs": [
    {
     "data": {
      "text/plain": [
       "35817"
      ]
     },
     "execution_count": 37,
     "metadata": {},
     "output_type": "execute_result"
    }
   ],
   "source": [
    "# We will wright the name of the celebrity we are looking for and get its index to use it with our BOW\n",
    "index = df[df['name'] == \"Barack Obama\"].index[0]\n",
    "index"
   ]
  },
  {
   "cell_type": "markdown",
   "id": "d6384ebb-beef-47d3-a32c-ea028e5687db",
   "metadata": {},
   "source": [
    "**Now use the model to find the most relevant neighbors**"
   ]
  },
  {
   "cell_type": "code",
   "execution_count": 38,
   "id": "31ed6f21-54ea-4d8c-b9d0-5e7aeddd33d9",
   "metadata": {},
   "outputs": [],
   "source": [
    "distances, indices = model.kneighbors(word_count_matrix[index], n_neighbors=10)"
   ]
  },
  {
   "cell_type": "code",
   "execution_count": 39,
   "id": "b473b24c-37d9-489c-9080-2620c28dc12d",
   "metadata": {},
   "outputs": [
    {
     "data": {
      "text/html": [
       "<div>\n",
       "<style scoped>\n",
       "    .dataframe tbody tr th:only-of-type {\n",
       "        vertical-align: middle;\n",
       "    }\n",
       "\n",
       "    .dataframe tbody tr th {\n",
       "        vertical-align: top;\n",
       "    }\n",
       "\n",
       "    .dataframe thead th {\n",
       "        text-align: right;\n",
       "    }\n",
       "</style>\n",
       "<table border=\"1\" class=\"dataframe\">\n",
       "  <thead>\n",
       "    <tr style=\"text-align: right;\">\n",
       "      <th></th>\n",
       "      <th>name</th>\n",
       "      <th>distance</th>\n",
       "    </tr>\n",
       "    <tr>\n",
       "      <th>id</th>\n",
       "      <th></th>\n",
       "      <th></th>\n",
       "    </tr>\n",
       "  </thead>\n",
       "  <tbody>\n",
       "    <tr>\n",
       "      <th>35817</th>\n",
       "      <td>Barack Obama</td>\n",
       "      <td>0.000000</td>\n",
       "    </tr>\n",
       "    <tr>\n",
       "      <th>24478</th>\n",
       "      <td>Joe Biden</td>\n",
       "      <td>23.237900</td>\n",
       "    </tr>\n",
       "    <tr>\n",
       "      <th>50452</th>\n",
       "      <td>John F. Tierney</td>\n",
       "      <td>24.899799</td>\n",
       "    </tr>\n",
       "    <tr>\n",
       "      <th>11517</th>\n",
       "      <td>Louis Susman</td>\n",
       "      <td>25.039968</td>\n",
       "    </tr>\n",
       "    <tr>\n",
       "      <th>57635</th>\n",
       "      <td>Joe Sestak</td>\n",
       "      <td>25.357445</td>\n",
       "    </tr>\n",
       "    <tr>\n",
       "      <th>53303</th>\n",
       "      <td>Juan F. Vasquez</td>\n",
       "      <td>25.396850</td>\n",
       "    </tr>\n",
       "    <tr>\n",
       "      <th>43713</th>\n",
       "      <td>Ken Salazar</td>\n",
       "      <td>25.455844</td>\n",
       "    </tr>\n",
       "    <tr>\n",
       "      <th>33417</th>\n",
       "      <td>Tulsi Gabbard</td>\n",
       "      <td>25.553865</td>\n",
       "    </tr>\n",
       "    <tr>\n",
       "      <th>16880</th>\n",
       "      <td>Cynthia Hogan</td>\n",
       "      <td>25.651511</td>\n",
       "    </tr>\n",
       "    <tr>\n",
       "      <th>7950</th>\n",
       "      <td>Elizabeth Warren</td>\n",
       "      <td>25.670995</td>\n",
       "    </tr>\n",
       "  </tbody>\n",
       "</table>\n",
       "</div>"
      ],
      "text/plain": [
       "                   name   distance\n",
       "id                                \n",
       "35817      Barack Obama   0.000000\n",
       "24478         Joe Biden  23.237900\n",
       "50452   John F. Tierney  24.899799\n",
       "11517      Louis Susman  25.039968\n",
       "57635        Joe Sestak  25.357445\n",
       "53303   Juan F. Vasquez  25.396850\n",
       "43713       Ken Salazar  25.455844\n",
       "33417     Tulsi Gabbard  25.553865\n",
       "16880     Cynthia Hogan  25.651511\n",
       "7950   Elizabeth Warren  25.670995"
      ]
     },
     "execution_count": 39,
     "metadata": {},
     "output_type": "execute_result"
    }
   ],
   "source": [
    "neighbors = pd.DataFrame({\"id\":indices[0].tolist(), \n",
    "                          \"distance\":distances[0].tolist()})\n",
    "neighbors.set_index(\"id\", inplace=True)\n",
    "\n",
    "\n",
    "# Join both the dataframes and so it will show us the best results\n",
    "neighbors.join(df)[['name']+[\"distance\"]]"
   ]
  },
  {
   "cell_type": "markdown",
   "id": "a5e7c53b-51a0-49ce-b0a7-0287a3174c7a",
   "metadata": {},
   "source": [
    "#### Now analyse the most frequent words in each document to see why those celebrities are too close"
   ]
  },
  {
   "cell_type": "code",
   "execution_count": 40,
   "id": "60932f2a-6750-4bfc-841b-a9eb3fab11c2",
   "metadata": {},
   "outputs": [
    {
     "data": {
      "text/html": [
       "<div>\n",
       "<style scoped>\n",
       "    .dataframe tbody tr th:only-of-type {\n",
       "        vertical-align: middle;\n",
       "    }\n",
       "\n",
       "    .dataframe tbody tr th {\n",
       "        vertical-align: top;\n",
       "    }\n",
       "\n",
       "    .dataframe thead th {\n",
       "        text-align: right;\n",
       "    }\n",
       "</style>\n",
       "<table border=\"1\" class=\"dataframe\">\n",
       "  <thead>\n",
       "    <tr style=\"text-align: right;\">\n",
       "      <th></th>\n",
       "      <th>word</th>\n",
       "      <th>vlaue</th>\n",
       "    </tr>\n",
       "  </thead>\n",
       "  <tbody>\n",
       "    <tr>\n",
       "      <th>0</th>\n",
       "      <td>obama</td>\n",
       "      <td>9</td>\n",
       "    </tr>\n",
       "    <tr>\n",
       "      <th>1</th>\n",
       "      <td>act</td>\n",
       "      <td>8</td>\n",
       "    </tr>\n",
       "    <tr>\n",
       "      <th>2</th>\n",
       "      <td>us</td>\n",
       "      <td>6</td>\n",
       "    </tr>\n",
       "    <tr>\n",
       "      <th>3</th>\n",
       "      <td>law</td>\n",
       "      <td>6</td>\n",
       "    </tr>\n",
       "    <tr>\n",
       "      <th>4</th>\n",
       "      <td>president</td>\n",
       "      <td>4</td>\n",
       "    </tr>\n",
       "    <tr>\n",
       "      <th>5</th>\n",
       "      <td>military</td>\n",
       "      <td>4</td>\n",
       "    </tr>\n",
       "    <tr>\n",
       "      <th>6</th>\n",
       "      <td>control</td>\n",
       "      <td>4</td>\n",
       "    </tr>\n",
       "    <tr>\n",
       "      <th>7</th>\n",
       "      <td>iraq</td>\n",
       "      <td>4</td>\n",
       "    </tr>\n",
       "    <tr>\n",
       "      <th>8</th>\n",
       "      <td>democratic</td>\n",
       "      <td>4</td>\n",
       "    </tr>\n",
       "    <tr>\n",
       "      <th>9</th>\n",
       "      <td>signed</td>\n",
       "      <td>3</td>\n",
       "    </tr>\n",
       "  </tbody>\n",
       "</table>\n",
       "</div>"
      ],
      "text/plain": [
       "         word  vlaue\n",
       "0       obama      9\n",
       "1         act      8\n",
       "2          us      6\n",
       "3         law      6\n",
       "4   president      4\n",
       "5    military      4\n",
       "6     control      4\n",
       "7        iraq      4\n",
       "8  democratic      4\n",
       "9      signed      3"
      ]
     },
     "execution_count": 40,
     "metadata": {},
     "output_type": "execute_result"
    }
   ],
   "source": [
    "get_top_n_words(\"Barack Obama\", vectorizer, word_count_matrix, 10)"
   ]
  },
  {
   "cell_type": "code",
   "execution_count": 41,
   "id": "db603ce4-da50-4b7c-a8f0-7719abf94f23",
   "metadata": {},
   "outputs": [
    {
     "data": {
      "text/html": [
       "<div>\n",
       "<style scoped>\n",
       "    .dataframe tbody tr th:only-of-type {\n",
       "        vertical-align: middle;\n",
       "    }\n",
       "\n",
       "    .dataframe tbody tr th {\n",
       "        vertical-align: top;\n",
       "    }\n",
       "\n",
       "    .dataframe thead th {\n",
       "        text-align: right;\n",
       "    }\n",
       "</style>\n",
       "<table border=\"1\" class=\"dataframe\">\n",
       "  <thead>\n",
       "    <tr style=\"text-align: right;\">\n",
       "      <th></th>\n",
       "      <th>word</th>\n",
       "      <th>vlaue</th>\n",
       "    </tr>\n",
       "  </thead>\n",
       "  <tbody>\n",
       "    <tr>\n",
       "      <th>0</th>\n",
       "      <td>act</td>\n",
       "      <td>5</td>\n",
       "    </tr>\n",
       "    <tr>\n",
       "      <th>1</th>\n",
       "      <td>us</td>\n",
       "      <td>5</td>\n",
       "    </tr>\n",
       "    <tr>\n",
       "      <th>2</th>\n",
       "      <td>president</td>\n",
       "      <td>5</td>\n",
       "    </tr>\n",
       "    <tr>\n",
       "      <th>3</th>\n",
       "      <td>vice</td>\n",
       "      <td>5</td>\n",
       "    </tr>\n",
       "    <tr>\n",
       "      <th>4</th>\n",
       "      <td>elected</td>\n",
       "      <td>4</td>\n",
       "    </tr>\n",
       "    <tr>\n",
       "      <th>5</th>\n",
       "      <td>obama</td>\n",
       "      <td>4</td>\n",
       "    </tr>\n",
       "    <tr>\n",
       "      <th>6</th>\n",
       "      <td>senator</td>\n",
       "      <td>3</td>\n",
       "    </tr>\n",
       "    <tr>\n",
       "      <th>7</th>\n",
       "      <td>committee</td>\n",
       "      <td>3</td>\n",
       "    </tr>\n",
       "    <tr>\n",
       "      <th>8</th>\n",
       "      <td>united</td>\n",
       "      <td>3</td>\n",
       "    </tr>\n",
       "    <tr>\n",
       "      <th>9</th>\n",
       "      <td>war</td>\n",
       "      <td>3</td>\n",
       "    </tr>\n",
       "  </tbody>\n",
       "</table>\n",
       "</div>"
      ],
      "text/plain": [
       "        word  vlaue\n",
       "0        act      5\n",
       "1         us      5\n",
       "2  president      5\n",
       "3       vice      5\n",
       "4    elected      4\n",
       "5      obama      4\n",
       "6    senator      3\n",
       "7  committee      3\n",
       "8     united      3\n",
       "9        war      3"
      ]
     },
     "execution_count": 41,
     "metadata": {},
     "output_type": "execute_result"
    }
   ],
   "source": [
    "get_top_n_words(\"Joe Biden\", vectorizer, word_count_matrix, 10)"
   ]
  },
  {
   "cell_type": "code",
   "execution_count": 42,
   "id": "8dfcfac4-0b35-4c3a-98b3-65a0e4494349",
   "metadata": {},
   "outputs": [
    {
     "data": {
      "text/html": [
       "<div>\n",
       "<style scoped>\n",
       "    .dataframe tbody tr th:only-of-type {\n",
       "        vertical-align: middle;\n",
       "    }\n",
       "\n",
       "    .dataframe tbody tr th {\n",
       "        vertical-align: top;\n",
       "    }\n",
       "\n",
       "    .dataframe thead th {\n",
       "        text-align: right;\n",
       "    }\n",
       "</style>\n",
       "<table border=\"1\" class=\"dataframe\">\n",
       "  <thead>\n",
       "    <tr style=\"text-align: right;\">\n",
       "      <th></th>\n",
       "      <th>word</th>\n",
       "      <th>vlaue</th>\n",
       "    </tr>\n",
       "  </thead>\n",
       "  <tbody>\n",
       "    <tr>\n",
       "      <th>0</th>\n",
       "      <td>republican</td>\n",
       "      <td>4</td>\n",
       "    </tr>\n",
       "    <tr>\n",
       "      <th>1</th>\n",
       "      <td>alabama</td>\n",
       "      <td>4</td>\n",
       "    </tr>\n",
       "    <tr>\n",
       "      <th>2</th>\n",
       "      <td>elected</td>\n",
       "      <td>3</td>\n",
       "    </tr>\n",
       "    <tr>\n",
       "      <th>3</th>\n",
       "      <td>states</td>\n",
       "      <td>3</td>\n",
       "    </tr>\n",
       "    <tr>\n",
       "      <th>4</th>\n",
       "      <td>sessions</td>\n",
       "      <td>3</td>\n",
       "    </tr>\n",
       "    <tr>\n",
       "      <th>5</th>\n",
       "      <td>district</td>\n",
       "      <td>3</td>\n",
       "    </tr>\n",
       "    <tr>\n",
       "      <th>6</th>\n",
       "      <td>us</td>\n",
       "      <td>3</td>\n",
       "    </tr>\n",
       "    <tr>\n",
       "      <th>7</th>\n",
       "      <td>senators</td>\n",
       "      <td>2</td>\n",
       "    </tr>\n",
       "    <tr>\n",
       "      <th>8</th>\n",
       "      <td>southern</td>\n",
       "      <td>2</td>\n",
       "    </tr>\n",
       "    <tr>\n",
       "      <th>9</th>\n",
       "      <td>united</td>\n",
       "      <td>2</td>\n",
       "    </tr>\n",
       "  </tbody>\n",
       "</table>\n",
       "</div>"
      ],
      "text/plain": [
       "         word  vlaue\n",
       "0  republican      4\n",
       "1     alabama      4\n",
       "2     elected      3\n",
       "3      states      3\n",
       "4    sessions      3\n",
       "5    district      3\n",
       "6          us      3\n",
       "7    senators      2\n",
       "8    southern      2\n",
       "9      united      2"
      ]
     },
     "execution_count": 42,
     "metadata": {},
     "output_type": "execute_result"
    }
   ],
   "source": [
    "get_top_n_words(\"Jeff Sessions\", vectorizer, word_count_matrix, 10)"
   ]
  },
  {
   "cell_type": "markdown",
   "id": "235950dd-25a9-4255-88b0-7cf28539a4f9",
   "metadata": {},
   "source": [
    "___\n",
    "## Now trying the tfidf transformation to get more relevant and accurate results"
   ]
  },
  {
   "cell_type": "code",
   "execution_count": 23,
   "id": "d659fb94-74d4-43a8-8772-3f127fdda6ac",
   "metadata": {},
   "outputs": [],
   "source": [
    "# Gonfigure the vectorizer\n",
    "tfidf_vectorizer = TfidfVectorizer(min_df=5, max_df=0.9,\n",
    "                                   ngram_range=(1, 2),\n",
    "                                   token_pattern='(\\S+)')"
   ]
  },
  {
   "cell_type": "code",
   "execution_count": 24,
   "id": "b99a7ee1-c70a-4076-88e9-d90a651a3c3a",
   "metadata": {},
   "outputs": [],
   "source": [
    "# Construct the tfidf tokens matrix\n",
    "tfidf_counts = tfidf_vectorizer.fit_transform(df['clean_text'])"
   ]
  },
  {
   "cell_type": "markdown",
   "id": "b334399a-3f95-4223-aecc-337455ae2317",
   "metadata": {},
   "source": [
    "**Now define the model**"
   ]
  },
  {
   "cell_type": "code",
   "execution_count": 25,
   "id": "57521111-c49b-4825-852f-ccecad8622ff",
   "metadata": {},
   "outputs": [],
   "source": [
    "model = NearestNeighbors(metric=\"euclidean\", algorithm=\"brute\")"
   ]
  },
  {
   "cell_type": "code",
   "execution_count": 26,
   "id": "7b415e24-9b4a-4586-9da8-23184e523c67",
   "metadata": {},
   "outputs": [
    {
     "data": {
      "text/plain": [
       "NearestNeighbors(algorithm='brute', metric='euclidean')"
      ]
     },
     "execution_count": 26,
     "metadata": {},
     "output_type": "execute_result"
    }
   ],
   "source": [
    "model.fit(tfidf_counts)"
   ]
  },
  {
   "cell_type": "code",
   "execution_count": 27,
   "id": "c231c387-db4f-43d1-8b71-9fbd926a2248",
   "metadata": {},
   "outputs": [
    {
     "data": {
      "text/plain": [
       "35817"
      ]
     },
     "execution_count": 27,
     "metadata": {},
     "output_type": "execute_result"
    }
   ],
   "source": [
    "# We will wright the name of the celebrity we are looking for and get its index to use it with our BOW\n",
    "index = df[df['name'] == \"Barack Obama\"].index[0]\n",
    "index"
   ]
  },
  {
   "cell_type": "markdown",
   "id": "c8723618-72e8-4479-837f-739e43d7510d",
   "metadata": {},
   "source": [
    "**Now use the model to find the most relevant neighbors**"
   ]
  },
  {
   "cell_type": "code",
   "execution_count": 28,
   "id": "330c2813-186f-4976-a879-13d850b35e19",
   "metadata": {},
   "outputs": [],
   "source": [
    "distances, indices = model.kneighbors(tfidf_counts[index], n_neighbors=10)"
   ]
  },
  {
   "cell_type": "code",
   "execution_count": 29,
   "id": "d4718402-21ae-47d2-954a-95020ff7eab6",
   "metadata": {},
   "outputs": [
    {
     "data": {
      "text/html": [
       "<div>\n",
       "<style scoped>\n",
       "    .dataframe tbody tr th:only-of-type {\n",
       "        vertical-align: middle;\n",
       "    }\n",
       "\n",
       "    .dataframe tbody tr th {\n",
       "        vertical-align: top;\n",
       "    }\n",
       "\n",
       "    .dataframe thead th {\n",
       "        text-align: right;\n",
       "    }\n",
       "</style>\n",
       "<table border=\"1\" class=\"dataframe\">\n",
       "  <thead>\n",
       "    <tr style=\"text-align: right;\">\n",
       "      <th></th>\n",
       "      <th>name</th>\n",
       "      <th>distance</th>\n",
       "    </tr>\n",
       "    <tr>\n",
       "      <th>id</th>\n",
       "      <th></th>\n",
       "      <th></th>\n",
       "    </tr>\n",
       "  </thead>\n",
       "  <tbody>\n",
       "    <tr>\n",
       "      <th>35817</th>\n",
       "      <td>Barack Obama</td>\n",
       "      <td>0.000000</td>\n",
       "    </tr>\n",
       "    <tr>\n",
       "      <th>24478</th>\n",
       "      <td>Joe Biden</td>\n",
       "      <td>1.219453</td>\n",
       "    </tr>\n",
       "    <tr>\n",
       "      <th>57108</th>\n",
       "      <td>Hillary Rodham Clinton</td>\n",
       "      <td>1.284820</td>\n",
       "    </tr>\n",
       "    <tr>\n",
       "      <th>2412</th>\n",
       "      <td>Joe the Plumber</td>\n",
       "      <td>1.287304</td>\n",
       "    </tr>\n",
       "    <tr>\n",
       "      <th>46811</th>\n",
       "      <td>Jeff Sessions</td>\n",
       "      <td>1.287454</td>\n",
       "    </tr>\n",
       "    <tr>\n",
       "      <th>18827</th>\n",
       "      <td>Henry Waxman</td>\n",
       "      <td>1.288715</td>\n",
       "    </tr>\n",
       "    <tr>\n",
       "      <th>38714</th>\n",
       "      <td>Eric Stern (politician)</td>\n",
       "      <td>1.292733</td>\n",
       "    </tr>\n",
       "    <tr>\n",
       "      <th>48693</th>\n",
       "      <td>Artur Davis</td>\n",
       "      <td>1.293186</td>\n",
       "    </tr>\n",
       "    <tr>\n",
       "      <th>38376</th>\n",
       "      <td>Samantha Power</td>\n",
       "      <td>1.293938</td>\n",
       "    </tr>\n",
       "    <tr>\n",
       "      <th>4408</th>\n",
       "      <td>Joe Lieberman</td>\n",
       "      <td>1.297776</td>\n",
       "    </tr>\n",
       "  </tbody>\n",
       "</table>\n",
       "</div>"
      ],
      "text/plain": [
       "                          name  distance\n",
       "id                                      \n",
       "35817             Barack Obama  0.000000\n",
       "24478                Joe Biden  1.219453\n",
       "57108   Hillary Rodham Clinton  1.284820\n",
       "2412           Joe the Plumber  1.287304\n",
       "46811            Jeff Sessions  1.287454\n",
       "18827             Henry Waxman  1.288715\n",
       "38714  Eric Stern (politician)  1.292733\n",
       "48693              Artur Davis  1.293186\n",
       "38376           Samantha Power  1.293938\n",
       "4408             Joe Lieberman  1.297776"
      ]
     },
     "execution_count": 29,
     "metadata": {},
     "output_type": "execute_result"
    }
   ],
   "source": [
    "neighbors = pd.DataFrame({\"id\":indices[0].tolist(), \n",
    "                          \"distance\":distances[0].tolist()})\n",
    "neighbors.set_index(\"id\", inplace=True)\n",
    "\n",
    "\n",
    "# Join both the dataframes and so it will show us the best results\n",
    "neighbors.join(df)[['name']+[\"distance\"]]"
   ]
  },
  {
   "cell_type": "markdown",
   "id": "d3b04a58-339e-4826-ad1d-0dbe0e3ff8d8",
   "metadata": {},
   "source": [
    "#### Now analyse the most frequent words in each document to see why those celebrities are too close"
   ]
  },
  {
   "cell_type": "code",
   "execution_count": 30,
   "id": "f7a21117-1ed3-48b1-8950-526fe7fd92aa",
   "metadata": {},
   "outputs": [
    {
     "data": {
      "text/html": [
       "<div>\n",
       "<style scoped>\n",
       "    .dataframe tbody tr th:only-of-type {\n",
       "        vertical-align: middle;\n",
       "    }\n",
       "\n",
       "    .dataframe tbody tr th {\n",
       "        vertical-align: top;\n",
       "    }\n",
       "\n",
       "    .dataframe thead th {\n",
       "        text-align: right;\n",
       "    }\n",
       "</style>\n",
       "<table border=\"1\" class=\"dataframe\">\n",
       "  <thead>\n",
       "    <tr style=\"text-align: right;\">\n",
       "      <th></th>\n",
       "      <th>word</th>\n",
       "      <th>vlaue</th>\n",
       "    </tr>\n",
       "  </thead>\n",
       "  <tbody>\n",
       "    <tr>\n",
       "      <th>0</th>\n",
       "      <td>obama</td>\n",
       "      <td>0.306565</td>\n",
       "    </tr>\n",
       "    <tr>\n",
       "      <th>1</th>\n",
       "      <td>act</td>\n",
       "      <td>0.209201</td>\n",
       "    </tr>\n",
       "    <tr>\n",
       "      <th>2</th>\n",
       "      <td>us military</td>\n",
       "      <td>0.127864</td>\n",
       "    </tr>\n",
       "    <tr>\n",
       "      <th>3</th>\n",
       "      <td>iraq</td>\n",
       "      <td>0.127498</td>\n",
       "    </tr>\n",
       "    <tr>\n",
       "      <th>4</th>\n",
       "      <td>law</td>\n",
       "      <td>0.121518</td>\n",
       "    </tr>\n",
       "    <tr>\n",
       "      <th>5</th>\n",
       "      <td>control</td>\n",
       "      <td>0.110742</td>\n",
       "    </tr>\n",
       "    <tr>\n",
       "      <th>6</th>\n",
       "      <td>act 2010</td>\n",
       "      <td>0.110500</td>\n",
       "    </tr>\n",
       "    <tr>\n",
       "      <th>7</th>\n",
       "      <td>us</td>\n",
       "      <td>0.103164</td>\n",
       "    </tr>\n",
       "    <tr>\n",
       "      <th>8</th>\n",
       "      <td>ordered</td>\n",
       "      <td>0.102782</td>\n",
       "    </tr>\n",
       "    <tr>\n",
       "      <th>9</th>\n",
       "      <td>military</td>\n",
       "      <td>0.100362</td>\n",
       "    </tr>\n",
       "  </tbody>\n",
       "</table>\n",
       "</div>"
      ],
      "text/plain": [
       "          word     vlaue\n",
       "0        obama  0.306565\n",
       "1          act  0.209201\n",
       "2  us military  0.127864\n",
       "3         iraq  0.127498\n",
       "4          law  0.121518\n",
       "5      control  0.110742\n",
       "6     act 2010  0.110500\n",
       "7           us  0.103164\n",
       "8      ordered  0.102782\n",
       "9     military  0.100362"
      ]
     },
     "execution_count": 30,
     "metadata": {},
     "output_type": "execute_result"
    }
   ],
   "source": [
    "get_top_n_words(\"Barack Obama\", tfidf_vectorizer, tfidf_counts, 10)"
   ]
  },
  {
   "cell_type": "code",
   "execution_count": 31,
   "id": "078a66b7-81e8-4f3d-8b16-57c628ccef1d",
   "metadata": {},
   "outputs": [
    {
     "data": {
      "text/html": [
       "<div>\n",
       "<style scoped>\n",
       "    .dataframe tbody tr th:only-of-type {\n",
       "        vertical-align: middle;\n",
       "    }\n",
       "\n",
       "    .dataframe tbody tr th {\n",
       "        vertical-align: top;\n",
       "    }\n",
       "\n",
       "    .dataframe thead th {\n",
       "        text-align: right;\n",
       "    }\n",
       "</style>\n",
       "<table border=\"1\" class=\"dataframe\">\n",
       "  <thead>\n",
       "    <tr style=\"text-align: right;\">\n",
       "      <th></th>\n",
       "      <th>word</th>\n",
       "      <th>vlaue</th>\n",
       "    </tr>\n",
       "  </thead>\n",
       "  <tbody>\n",
       "    <tr>\n",
       "      <th>0</th>\n",
       "      <td>biden</td>\n",
       "      <td>0.477079</td>\n",
       "    </tr>\n",
       "    <tr>\n",
       "      <th>1</th>\n",
       "      <td>obama</td>\n",
       "      <td>0.154951</td>\n",
       "    </tr>\n",
       "    <tr>\n",
       "      <th>2</th>\n",
       "      <td>act</td>\n",
       "      <td>0.148696</td>\n",
       "    </tr>\n",
       "    <tr>\n",
       "      <th>3</th>\n",
       "      <td>vice</td>\n",
       "      <td>0.135767</td>\n",
       "    </tr>\n",
       "    <tr>\n",
       "      <th>4</th>\n",
       "      <td>vice president</td>\n",
       "      <td>0.119130</td>\n",
       "    </tr>\n",
       "    <tr>\n",
       "      <th>5</th>\n",
       "      <td>resolved</td>\n",
       "      <td>0.100779</td>\n",
       "    </tr>\n",
       "    <tr>\n",
       "      <th>6</th>\n",
       "      <td>judiciary committee</td>\n",
       "      <td>0.100621</td>\n",
       "    </tr>\n",
       "    <tr>\n",
       "      <th>7</th>\n",
       "      <td>senator</td>\n",
       "      <td>0.098132</td>\n",
       "    </tr>\n",
       "    <tr>\n",
       "      <th>8</th>\n",
       "      <td>us</td>\n",
       "      <td>0.097769</td>\n",
       "    </tr>\n",
       "    <tr>\n",
       "      <th>9</th>\n",
       "      <td>president</td>\n",
       "      <td>0.093588</td>\n",
       "    </tr>\n",
       "  </tbody>\n",
       "</table>\n",
       "</div>"
      ],
      "text/plain": [
       "                  word     vlaue\n",
       "0                biden  0.477079\n",
       "1                obama  0.154951\n",
       "2                  act  0.148696\n",
       "3                 vice  0.135767\n",
       "4       vice president  0.119130\n",
       "5             resolved  0.100779\n",
       "6  judiciary committee  0.100621\n",
       "7              senator  0.098132\n",
       "8                   us  0.097769\n",
       "9            president  0.093588"
      ]
     },
     "execution_count": 31,
     "metadata": {},
     "output_type": "execute_result"
    }
   ],
   "source": [
    "get_top_n_words(\"Joe Biden\", tfidf_vectorizer, tfidf_counts, 10)"
   ]
  },
  {
   "cell_type": "code",
   "execution_count": 32,
   "id": "7e0d9883-3e1e-47cb-ba03-7a45316f516b",
   "metadata": {},
   "outputs": [
    {
     "data": {
      "text/html": [
       "<div>\n",
       "<style scoped>\n",
       "    .dataframe tbody tr th:only-of-type {\n",
       "        vertical-align: middle;\n",
       "    }\n",
       "\n",
       "    .dataframe tbody tr th {\n",
       "        vertical-align: top;\n",
       "    }\n",
       "\n",
       "    .dataframe thead th {\n",
       "        text-align: right;\n",
       "    }\n",
       "</style>\n",
       "<table border=\"1\" class=\"dataframe\">\n",
       "  <thead>\n",
       "    <tr style=\"text-align: right;\">\n",
       "      <th></th>\n",
       "      <th>word</th>\n",
       "      <th>vlaue</th>\n",
       "    </tr>\n",
       "  </thead>\n",
       "  <tbody>\n",
       "    <tr>\n",
       "      <th>0</th>\n",
       "      <td>clinton</td>\n",
       "      <td>0.371161</td>\n",
       "    </tr>\n",
       "    <tr>\n",
       "      <th>1</th>\n",
       "      <td>first lady</td>\n",
       "      <td>0.282296</td>\n",
       "    </tr>\n",
       "    <tr>\n",
       "      <th>2</th>\n",
       "      <td>lady</td>\n",
       "      <td>0.206021</td>\n",
       "    </tr>\n",
       "    <tr>\n",
       "      <th>3</th>\n",
       "      <td>secretary state</td>\n",
       "      <td>0.166982</td>\n",
       "    </tr>\n",
       "    <tr>\n",
       "      <th>4</th>\n",
       "      <td>rodham</td>\n",
       "      <td>0.144931</td>\n",
       "    </tr>\n",
       "    <tr>\n",
       "      <th>5</th>\n",
       "      <td>us</td>\n",
       "      <td>0.114570</td>\n",
       "    </tr>\n",
       "    <tr>\n",
       "      <th>6</th>\n",
       "      <td>secretary</td>\n",
       "      <td>0.111522</td>\n",
       "    </tr>\n",
       "    <tr>\n",
       "      <th>7</th>\n",
       "      <td>lady united</td>\n",
       "      <td>0.110607</td>\n",
       "    </tr>\n",
       "    <tr>\n",
       "      <th>8</th>\n",
       "      <td>state</td>\n",
       "      <td>0.105855</td>\n",
       "    </tr>\n",
       "    <tr>\n",
       "      <th>9</th>\n",
       "      <td>first</td>\n",
       "      <td>0.104117</td>\n",
       "    </tr>\n",
       "  </tbody>\n",
       "</table>\n",
       "</div>"
      ],
      "text/plain": [
       "              word     vlaue\n",
       "0          clinton  0.371161\n",
       "1       first lady  0.282296\n",
       "2             lady  0.206021\n",
       "3  secretary state  0.166982\n",
       "4           rodham  0.144931\n",
       "5               us  0.114570\n",
       "6        secretary  0.111522\n",
       "7      lady united  0.110607\n",
       "8            state  0.105855\n",
       "9            first  0.104117"
      ]
     },
     "execution_count": 32,
     "metadata": {},
     "output_type": "execute_result"
    }
   ],
   "source": [
    "get_top_n_words(\"Hillary Rodham Clinton\", tfidf_vectorizer, tfidf_counts, 10)"
   ]
  },
  {
   "cell_type": "markdown",
   "id": "ed62f78c-f728-421c-ae15-31d8966dccb7",
   "metadata": {},
   "source": [
    "___\n",
    "# IN THIS NOTEBOOK:\n",
    "**We figured out that we can use KNN as an algorithm for information retrival, but we found that it takes a long time to get the K-neighbors and with millions of records; this brute force algorithm would be trivial**\n",
    "\n",
    "`concluding that we need a more sofisticated algorithm with as fast speed as possible, so we wont use exact NN approach but instead the approximated KNN approach; either with KD-tree or using the more robust LSH algorithm (Locality Sensitive Hashing).`"
   ]
  }
 ],
 "metadata": {
  "kernelspec": {
   "display_name": "Python 3 (ipykernel)",
   "language": "python",
   "name": "python3"
  },
  "language_info": {
   "codemirror_mode": {
    "name": "ipython",
    "version": 3
   },
   "file_extension": ".py",
   "mimetype": "text/x-python",
   "name": "python",
   "nbconvert_exporter": "python",
   "pygments_lexer": "ipython3",
   "version": "3.8.8"
  }
 },
 "nbformat": 4,
 "nbformat_minor": 5
}
