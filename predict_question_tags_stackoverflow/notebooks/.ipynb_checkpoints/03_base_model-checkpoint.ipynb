{
 "cells": [
  {
   "cell_type": "code",
   "execution_count": null,
   "id": "72dae01c-7c3a-44dd-b23c-204f849520cd",
   "metadata": {},
   "outputs": [],
   "source": []
  },
  {
   "cell_type": "code",
   "execution_count": 1,
   "id": "63a53efb-00b6-4c69-97ae-ddba5ef70f01",
   "metadata": {},
   "outputs": [],
   "source": [
    "from sklearn.multiclass import OneVsRestClassifier\n",
    "from sklearn.linear_model import LogisticRegression, RidgeClassifier"
   ]
  },
  {
   "cell_type": "code",
   "execution_count": null,
   "id": "9e6827b3-1614-4c09-9913-b0dcdd95e4e4",
   "metadata": {},
   "outputs": [
    {
     "data": {
      "text/plain": [
       "OneVsRestClassifier(estimator=LogisticRegression(solver='liblinear'))"
      ]
     },
     "execution_count": 16,
     "metadata": {},
     "output_type": "execute_result"
    }
   ],
   "source": [
    "lr = LogisticRegression(penalty='l2', C=1.0, solver='liblinear')\n",
    "ovr = OneVsRestClassifier(lr)\n",
    "ovr.fit(X_train_BOW, y)"
   ]
  },
  {
   "cell_type": "code",
   "execution_count": 20,
   "id": "cadd5ed3-d173-4566-8280-a06b4ee3f03c",
   "metadata": {},
   "outputs": [],
   "source": [
    "y_train_pred = ovr.predict(X_train_BOW)"
   ]
  },
  {
   "cell_type": "code",
   "execution_count": 19,
   "id": "db1bc540-8a0d-43fc-933a-b02fdc3f411c",
   "metadata": {},
   "outputs": [],
   "source": [
    "y_val_pred = ovr.predict(X_val_BOW)"
   ]
  },
  {
   "cell_type": "code",
   "execution_count": 21,
   "id": "c2000c31-adeb-45fc-887f-5cad295b9c9e",
   "metadata": {},
   "outputs": [],
   "source": [
    "y_val = mlb.transform(val_df['tags'])"
   ]
  },
  {
   "cell_type": "code",
   "execution_count": null,
   "id": "d40a3511-93bd-4a37-9861-6f5964272fc2",
   "metadata": {},
   "outputs": [],
   "source": []
  },
  {
   "cell_type": "code",
   "execution_count": 24,
   "id": "a7d79f73-7b01-4aa2-a790-90a01d06e4ca",
   "metadata": {},
   "outputs": [
    {
     "name": "stdout",
     "output_type": "stream",
     "text": [
      "accuracy: 0.358\n",
      "f1_score: 0.5047325582597497\n",
      "recall_score: 0.41025902066701314\n",
      "precision_score: 0.7044056019919906\n"
     ]
    }
   ],
   "source": [
    "from sklearn.metrics import accuracy_score, f1_score, recall_score, precision_score\n",
    "\n",
    "print(\"accuracy:\", accuracy_score(y_val, y_val_pred))\n",
    "print(\"f1_score:\", f1_score(y_val, y_val_pred, average=\"macro\"))\n",
    "print(\"recall_score:\", recall_score(y_val, y_val_pred, average=\"macro\"))\n",
    "print(\"precision_score:\", precision_score(y_val, y_val_pred, average=\"macro\"))"
   ]
  },
  {
   "cell_type": "code",
   "execution_count": null,
   "id": "c0c40bf3-ef44-43a3-8653-c9f0bec1e41a",
   "metadata": {},
   "outputs": [],
   "source": []
  }
 ],
 "metadata": {
  "kernelspec": {
   "display_name": "Python 3 (ipykernel)",
   "language": "python",
   "name": "python3"
  },
  "language_info": {
   "codemirror_mode": {
    "name": "ipython",
    "version": 3
   },
   "file_extension": ".py",
   "mimetype": "text/x-python",
   "name": "python",
   "nbconvert_exporter": "python",
   "pygments_lexer": "ipython3",
   "version": "3.8.8"
  }
 },
 "nbformat": 4,
 "nbformat_minor": 5
}
