{
 "cells": [
  {
   "cell_type": "code",
   "execution_count": 1,
   "id": "544a3a5b-992f-4c43-90fd-bc3abc775f9a",
   "metadata": {},
   "outputs": [],
   "source": [
    "TRAIN_PATH = \"../data/raw/train.tsv\"\n",
    "VAL_PATH = \"../data/raw/validation.tsv\"\n",
    "TEST_PATH = \"../data/raw/test.tsv\"\n",
    "\n",
    "TRAIN_EXPORT_PATH = \"../data/processed/00_train_df.pkl\"\n",
    "VAL_EXPORT_PATH = \"../data/processed/00_validation_df.pkl\"\n",
    "TEST_EXPORT_PATH = \"../data/processed/00_test_df.pkl\""
   ]
  },
  {
   "cell_type": "code",
   "execution_count": 2,
   "id": "47c87d1f-6fd9-468e-b172-9ca76f1cb7da",
   "metadata": {},
   "outputs": [],
   "source": [
    "# load packages\n",
    "import pandas as pd\n",
    "import numpy as np\n",
    "\n",
    "from ast import literal_eval\n",
    "import re\n",
    "\n",
    "import nltk\n",
    "from nltk.corpus import stopwords\n",
    "\n",
    "pd.set_option('display.max_colwidth', None)"
   ]
  },
  {
   "cell_type": "markdown",
   "id": "054ac2da-ad0e-4797-bb91-152aace2d242",
   "metadata": {},
   "source": [
    "___\n",
    "## Functions:"
   ]
  },
  {
   "cell_type": "code",
   "execution_count": 3,
   "id": "01ff2e16-c500-42ee-a9ce-34fca3afcdc3",
   "metadata": {},
   "outputs": [],
   "source": [
    "def read_data(file_path):\n",
    "    \"\"\"\n",
    "    Read tap separated data; we applied the literal_eval function\n",
    "    on it so as to evaluate the exact data type of tags from the file\n",
    "    \"\"\"\n",
    "    data = pd.read_csv(file_path, sep='\\t')\n",
    "    data['tags'] = data['tags'].apply(literal_eval)\n",
    "    return data"
   ]
  },
  {
   "cell_type": "code",
   "execution_count": 4,
   "id": "cf65195a-bb90-41ef-8e2d-49e3a1e048d6",
   "metadata": {},
   "outputs": [],
   "source": [
    "REPLACE_BY_SPACE_RE = re.compile('[/(){}\\[\\]\\|@,;]')\n",
    "BAD_SYMBOLS_RE = re.compile('[^0-9a-z #+_]')\n",
    "STOPWORDS = set(stopwords.words(\"english\"))\n",
    "\n",
    "def text_prepare(text):\n",
    "    \"\"\"\n",
    "    text: a string to process\n",
    "    return: modified initial string\n",
    "    \"\"\"\n",
    "    text = text.lower()\n",
    "    text = REPLACE_BY_SPACE_RE.sub(' ', text)\n",
    "    text = BAD_SYMBOLS_RE.sub('', text)\n",
    "    text = ' '.join([x for x in text.split() if x and x not in STOPWORDS])\n",
    "    return text"
   ]
  },
  {
   "cell_type": "code",
   "execution_count": 5,
   "id": "73916be4-5985-4ccb-b7f9-636079090d7d",
   "metadata": {},
   "outputs": [],
   "source": [
    "def text_stemmer(text):\n",
    "    \"\"\"\n",
    "    A stemmer functoin that takes a text as input; tokenize and then normalize it\n",
    "    returns the same text after stemming\n",
    "    \"\"\"\n",
    "    stemmer = nltk.stem.PorterStemmer()\n",
    "    stems = [stemmer.stem(token) for token in text.split()]\n",
    "    return \" \".join(stems)"
   ]
  },
  {
   "cell_type": "code",
   "execution_count": 6,
   "id": "9455b17f-3cc8-43c1-a657-b5f736d03050",
   "metadata": {},
   "outputs": [],
   "source": [
    "def text_lemmatizer(text):\n",
    "    \"\"\"\n",
    "    A stemmer functoin that takes a text as input; tokenize and then normalize it\n",
    "    returns the same text after Lemmatizing\n",
    "    \"\"\"\n",
    "    lemmatizer = nltk.stem.WordNetLemmatizer()\n",
    "    lemmas = [lemmatizer.lemmatize(token) for token in text.split()]\n",
    "    return \" \".join(lemmas)"
   ]
  },
  {
   "cell_type": "markdown",
   "id": "c7d28c2d-7ef9-4bd4-bb2c-f2d07987eae6",
   "metadata": {},
   "source": [
    "___\n",
    "## Read data"
   ]
  },
  {
   "cell_type": "code",
   "execution_count": 7,
   "id": "1c20b2ca-5ebf-4f70-a01b-72dbc27b093a",
   "metadata": {},
   "outputs": [],
   "source": [
    "raw_train = read_data(TRAIN_PATH)\n",
    "raw_val = read_data(VAL_PATH)\n",
    "raw_test = pd.read_csv(TEST_PATH, sep='\\t')"
   ]
  },
  {
   "cell_type": "code",
   "execution_count": 8,
   "id": "e0e0971d-0fba-4b25-ac6d-83454eea5368",
   "metadata": {},
   "outputs": [
    {
     "data": {
      "text/html": [
       "<div>\n",
       "<style scoped>\n",
       "    .dataframe tbody tr th:only-of-type {\n",
       "        vertical-align: middle;\n",
       "    }\n",
       "\n",
       "    .dataframe tbody tr th {\n",
       "        vertical-align: top;\n",
       "    }\n",
       "\n",
       "    .dataframe thead th {\n",
       "        text-align: right;\n",
       "    }\n",
       "</style>\n",
       "<table border=\"1\" class=\"dataframe\">\n",
       "  <thead>\n",
       "    <tr style=\"text-align: right;\">\n",
       "      <th></th>\n",
       "      <th>title</th>\n",
       "      <th>tags</th>\n",
       "    </tr>\n",
       "  </thead>\n",
       "  <tbody>\n",
       "    <tr>\n",
       "      <th>41465</th>\n",
       "      <td>UnknownHostException accessing service on virtualBox</td>\n",
       "      <td>[java, linux]</td>\n",
       "    </tr>\n",
       "    <tr>\n",
       "      <th>797</th>\n",
       "      <td>Relationship/Node Charts/Graphs... Using Javascript or something else?</td>\n",
       "      <td>[javascript]</td>\n",
       "    </tr>\n",
       "    <tr>\n",
       "      <th>75481</th>\n",
       "      <td>Padding a list in python with particular value</td>\n",
       "      <td>[python, list]</td>\n",
       "    </tr>\n",
       "    <tr>\n",
       "      <th>45237</th>\n",
       "      <td>How to Integrate Paypal IPN for Custom Shopping Cart without using Buy Now Buttons</td>\n",
       "      <td>[php]</td>\n",
       "    </tr>\n",
       "    <tr>\n",
       "      <th>50923</th>\n",
       "      <td>Create a dynamic website with Java</td>\n",
       "      <td>[java, html]</td>\n",
       "    </tr>\n",
       "  </tbody>\n",
       "</table>\n",
       "</div>"
      ],
      "text/plain": [
       "                                                                                    title  \\\n",
       "41465                                UnknownHostException accessing service on virtualBox   \n",
       "797                Relationship/Node Charts/Graphs... Using Javascript or something else?   \n",
       "75481                                      Padding a list in python with particular value   \n",
       "45237  How to Integrate Paypal IPN for Custom Shopping Cart without using Buy Now Buttons   \n",
       "50923                                                  Create a dynamic website with Java   \n",
       "\n",
       "                 tags  \n",
       "41465   [java, linux]  \n",
       "797      [javascript]  \n",
       "75481  [python, list]  \n",
       "45237           [php]  \n",
       "50923    [java, html]  "
      ]
     },
     "execution_count": 8,
     "metadata": {},
     "output_type": "execute_result"
    }
   ],
   "source": [
    "raw_train.sample(5)"
   ]
  },
  {
   "cell_type": "code",
   "execution_count": 9,
   "id": "8531c155-0011-4f25-9cbf-34def354c92e",
   "metadata": {},
   "outputs": [
    {
     "data": {
      "text/html": [
       "<div>\n",
       "<style scoped>\n",
       "    .dataframe tbody tr th:only-of-type {\n",
       "        vertical-align: middle;\n",
       "    }\n",
       "\n",
       "    .dataframe tbody tr th {\n",
       "        vertical-align: top;\n",
       "    }\n",
       "\n",
       "    .dataframe thead th {\n",
       "        text-align: right;\n",
       "    }\n",
       "</style>\n",
       "<table border=\"1\" class=\"dataframe\">\n",
       "  <thead>\n",
       "    <tr style=\"text-align: right;\">\n",
       "      <th></th>\n",
       "      <th>title</th>\n",
       "    </tr>\n",
       "  </thead>\n",
       "  <tbody>\n",
       "    <tr>\n",
       "      <th>17841</th>\n",
       "      <td>JAVA Linked List Confused on why I can't check a variable against an node in the Linked List?</td>\n",
       "    </tr>\n",
       "    <tr>\n",
       "      <th>17241</th>\n",
       "      <td>Sorting a collection of HashSets</td>\n",
       "    </tr>\n",
       "    <tr>\n",
       "      <th>14445</th>\n",
       "      <td>how to split json format string in order to Deserialize is into .net object?</td>\n",
       "    </tr>\n",
       "    <tr>\n",
       "      <th>1925</th>\n",
       "      <td>sorting csv data by column C#</td>\n",
       "    </tr>\n",
       "    <tr>\n",
       "      <th>17124</th>\n",
       "      <td>Unable to install requests with pip in virtual ennvironment built using pyvenv-3.4</td>\n",
       "    </tr>\n",
       "  </tbody>\n",
       "</table>\n",
       "</div>"
      ],
      "text/plain": [
       "                                                                                               title\n",
       "17841  JAVA Linked List Confused on why I can't check a variable against an node in the Linked List?\n",
       "17241                                                               Sorting a collection of HashSets\n",
       "14445                   how to split json format string in order to Deserialize is into .net object?\n",
       "1925                                                                   sorting csv data by column C#\n",
       "17124             Unable to install requests with pip in virtual ennvironment built using pyvenv-3.4"
      ]
     },
     "execution_count": 9,
     "metadata": {},
     "output_type": "execute_result"
    }
   ],
   "source": [
    "raw_test.sample(5)"
   ]
  },
  {
   "cell_type": "markdown",
   "id": "c39181ca-a8f6-4dda-8387-ae3aad4c3c4d",
   "metadata": {
    "tags": []
   },
   "source": [
    "___\n",
    "## Prepare title column:\n",
    "One of the most known difficulities when working with natural data is that it's unstructured. For example, if used \"as is\" and extract tokens just by splitting the titles by whitespaces, there would be many weird tokens like (3.5?,\"flip), etc. To prevent the problems, it's usually useful to prepare the data somehow. We are gonna use a RegEx to replace these weird tokens with whitespaces."
   ]
  },
  {
   "cell_type": "code",
   "execution_count": 10,
   "id": "4da4b9ba-0a74-4209-97f8-da28d59ce81e",
   "metadata": {},
   "outputs": [
    {
     "name": "stdout",
     "output_type": "stream",
     "text": [
      "Before:\n",
      "How to use lombok.Data annotation in a Spring Boot application?\n",
      "\n",
      "After:\n",
      "use lombokdata annotation spring boot application\n"
     ]
    }
   ],
   "source": [
    "sample = np.random.randint(0, len(raw_train)+1)\n",
    "print(\"Before:\")\n",
    "print(raw_train['title'].values[sample])\n",
    "print()\n",
    "print(\"After:\")\n",
    "print(text_prepare(raw_train['title'].values[sample]))"
   ]
  },
  {
   "cell_type": "markdown",
   "id": "aa4771fb-63ad-4109-8293-0cf59362b79e",
   "metadata": {},
   "source": [
    "**Now preprocess title columns to acceptable form**"
   ]
  },
  {
   "cell_type": "code",
   "execution_count": 11,
   "id": "11669860-c4c8-44d2-9f86-e06a10f545d5",
   "metadata": {},
   "outputs": [],
   "source": [
    "train_df = raw_train.copy()\n",
    "val_df = raw_val.copy()\n",
    "test_df = raw_test.copy()"
   ]
  },
  {
   "cell_type": "code",
   "execution_count": 12,
   "id": "10f2c180-e233-4c09-a6be-cf565a632646",
   "metadata": {},
   "outputs": [],
   "source": [
    "train_df['title'] = train_df['title'].apply(text_prepare)\n",
    "val_df['title'] = val_df['title'].apply(text_prepare)\n",
    "test_df['title'] = test_df['title'].apply(text_prepare)"
   ]
  },
  {
   "cell_type": "markdown",
   "id": "6d47f835-8607-4548-b953-d18414bf4fa6",
   "metadata": {},
   "source": [
    "**Now a quick sanity check**"
   ]
  },
  {
   "cell_type": "code",
   "execution_count": 13,
   "id": "4d59486e-3865-40b4-9a17-5a7cefa51b59",
   "metadata": {},
   "outputs": [
    {
     "data": {
      "text/html": [
       "<div>\n",
       "<style scoped>\n",
       "    .dataframe tbody tr th:only-of-type {\n",
       "        vertical-align: middle;\n",
       "    }\n",
       "\n",
       "    .dataframe tbody tr th {\n",
       "        vertical-align: top;\n",
       "    }\n",
       "\n",
       "    .dataframe thead th {\n",
       "        text-align: right;\n",
       "    }\n",
       "</style>\n",
       "<table border=\"1\" class=\"dataframe\">\n",
       "  <thead>\n",
       "    <tr style=\"text-align: right;\">\n",
       "      <th></th>\n",
       "      <th>sample (15250)</th>\n",
       "    </tr>\n",
       "  </thead>\n",
       "  <tbody>\n",
       "    <tr>\n",
       "      <th>raw</th>\n",
       "      <td>pandas dataframe to dictionary value</td>\n",
       "    </tr>\n",
       "    <tr>\n",
       "      <th>processed</th>\n",
       "      <td>pandas dataframe dictionary value</td>\n",
       "    </tr>\n",
       "  </tbody>\n",
       "</table>\n",
       "</div>"
      ],
      "text/plain": [
       "                                 sample (15250)\n",
       "raw        pandas dataframe to dictionary value\n",
       "processed     pandas dataframe dictionary value"
      ]
     },
     "execution_count": 13,
     "metadata": {},
     "output_type": "execute_result"
    }
   ],
   "source": [
    "sample = np.random.randint(0, len(raw_train)+1)\n",
    "pd.DataFrame([raw_train['title'][sample],\n",
    "          train_df['title'][sample]],\n",
    "         index=[\"raw\", \"processed\"], columns=[f'sample ({sample})'])"
   ]
  },
  {
   "cell_type": "markdown",
   "id": "1b8e13db-88b1-4fac-9a11-c60e7f2bb437",
   "metadata": {},
   "source": [
    "## Export data"
   ]
  },
  {
   "cell_type": "code",
   "execution_count": 14,
   "id": "f5a342c9-3507-4a1f-bf48-0a76c2a15fcc",
   "metadata": {},
   "outputs": [],
   "source": [
    "train_df.to_pickle(TRAIN_EXPORT_PATH)\n",
    "val_df.to_pickle(VAL_EXPORT_PATH)\n",
    "test_df.to_pickle(TEST_EXPORT_PATH)"
   ]
  },
  {
   "cell_type": "markdown",
   "id": "44022366-3e66-478c-90e6-baeeab20f81d",
   "metadata": {},
   "source": [
    "___\n",
    "## In case we want to normalize our text using stemming or lemmatizing:"
   ]
  },
  {
   "cell_type": "code",
   "execution_count": 15,
   "id": "483a8209-db4c-4354-a80d-979083c3bb63",
   "metadata": {},
   "outputs": [
    {
     "data": {
      "text/plain": [
       "0                                                                     draw stack dotplot r\n",
       "1                                      mysql select record datetim field less specifi valu\n",
       "2                                                               termin window phone 81 app\n",
       "3                                               get current time specif countri via jqueri\n",
       "4                                                                  configur tomcat use ssl\n",
       "5                                awesom nest set plugin add new children tree variou level\n",
       "6                                                       creat map json respons rubi rail 3\n",
       "7                                                                   rspec test method call\n",
       "8                                                      springboot catalina lifecycl except\n",
       "9                                                  import data excel mysql databas use php\n",
       "10    obtain object javalangclasst object parameter type without construct class q_uestion\n",
       "11                                                   ipad select text insid text input tap\n",
       "12                                                                  jqueri function object\n",
       "13                                                   eclips c++ mingw lauch program termin\n",
       "14                               javascript call one prototyp method anoth prototyp method\n",
       "15                                                                  get intersect list set\n",
       "16                                         longer abl hide keyboard viewwilldisappear ios7\n",
       "17                                                                    fetch key json swift\n",
       "18                                               chang pivot header templat window phone 8\n",
       "19                                                                   connectionstr encrypt\n",
       "Name: title, dtype: object"
      ]
     },
     "execution_count": 15,
     "metadata": {},
     "output_type": "execute_result"
    }
   ],
   "source": [
    "train_df['title'][:20].apply(text_stemmer)"
   ]
  },
  {
   "cell_type": "code",
   "execution_count": 16,
   "id": "b772543d-931a-4962-8ce8-f1310464e977",
   "metadata": {},
   "outputs": [
    {
     "data": {
      "text/plain": [
       "0                                                                             draw stacked dotplot r\n",
       "1                                              mysql select record datetime field le specified value\n",
       "2                                                                      terminate window phone 81 app\n",
       "3                                                       get current time specific country via jquery\n",
       "4                                                                         configuring tomcat use ssl\n",
       "5                                         awesome nested set plugin add new child tree various level\n",
       "6                                                               create map json response ruby rail 3\n",
       "7                                                                           rspec test method called\n",
       "8                                                            springboot catalina lifecycle exception\n",
       "9                                                         import data excel mysql database using php\n",
       "10    obtaining object javalangclasst object parameterized type without constructing class q_uestion\n",
       "11                                                         ipad selecting text inside text input tap\n",
       "12                                                                           jquerys function object\n",
       "13                                                        eclipse c++ mingw lauch program terminated\n",
       "14                                     javascript call one prototype method another prototype method\n",
       "15                                                                         get intersection list set\n",
       "16                                                  longer able hide keyboard viewwilldisappear ios7\n",
       "17                                                                              fetch key json swift\n",
       "18                                                       change pivot header template window phone 8\n",
       "19                                                                       connectionstring encryption\n",
       "Name: title, dtype: object"
      ]
     },
     "execution_count": 16,
     "metadata": {},
     "output_type": "execute_result"
    }
   ],
   "source": [
    "train_df['title'][:20].apply(text_lemmatizer)"
   ]
  },
  {
   "cell_type": "code",
   "execution_count": null,
   "id": "a571863f-1fea-4fc3-ae8c-54dea91c0a58",
   "metadata": {},
   "outputs": [],
   "source": []
  }
 ],
 "metadata": {
  "kernelspec": {
   "display_name": "Python 3 (ipykernel)",
   "language": "python",
   "name": "python3"
  },
  "language_info": {
   "codemirror_mode": {
    "name": "ipython",
    "version": 3
   },
   "file_extension": ".py",
   "mimetype": "text/x-python",
   "name": "python",
   "nbconvert_exporter": "python",
   "pygments_lexer": "ipython3",
   "version": "3.8.8"
  }
 },
 "nbformat": 4,
 "nbformat_minor": 5
}
